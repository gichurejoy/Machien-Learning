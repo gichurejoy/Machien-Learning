{
  "nbformat": 4,
  "nbformat_minor": 0,
  "metadata": {
    "colab": {
      "provenance": [],
      "authorship_tag": "ABX9TyN0QkISI3DZe05LXw4+cgSc",
      "include_colab_link": true
    },
    "kernelspec": {
      "name": "python3",
      "display_name": "Python 3"
    },
    "language_info": {
      "name": "python"
    }
  },
  "cells": [
    {
      "cell_type": "markdown",
      "metadata": {
        "id": "view-in-github",
        "colab_type": "text"
      },
      "source": [
        "<a href=\"https://colab.research.google.com/github/gichurejoy/Machine-Learning/blob/main/stockanalysis.ipynb\" target=\"_parent\"><img src=\"https://colab.research.google.com/assets/colab-badge.svg\" alt=\"Open In Colab\"/></a>"
      ]
    },
    {
      "cell_type": "code",
      "source": [
        "!pip install Flask\n"
      ],
      "metadata": {
        "colab": {
          "base_uri": "https://localhost:8080/"
        },
        "id": "AFwWXz3oMJ4v",
        "outputId": "93947858-a14b-43f6-b937-f29222e0ac11"
      },
      "execution_count": 1,
      "outputs": [
        {
          "output_type": "stream",
          "name": "stdout",
          "text": [
            "Requirement already satisfied: Flask in /usr/local/lib/python3.10/dist-packages (2.2.5)\n",
            "Requirement already satisfied: Werkzeug>=2.2.2 in /usr/local/lib/python3.10/dist-packages (from Flask) (3.0.0)\n",
            "Requirement already satisfied: Jinja2>=3.0 in /usr/local/lib/python3.10/dist-packages (from Flask) (3.1.2)\n",
            "Requirement already satisfied: itsdangerous>=2.0 in /usr/local/lib/python3.10/dist-packages (from Flask) (2.1.2)\n",
            "Requirement already satisfied: click>=8.0 in /usr/local/lib/python3.10/dist-packages (from Flask) (8.1.7)\n",
            "Requirement already satisfied: MarkupSafe>=2.0 in /usr/local/lib/python3.10/dist-packages (from Jinja2>=3.0->Flask) (2.1.3)\n"
          ]
        }
      ]
    },
    {
      "cell_type": "code",
      "source": [
        "import pandas as pd\n",
        "from datetime import datetime\n",
        "from flask import Flask, request, jsonify\n",
        "import os\n",
        "\n",
        "app = Flask(__name__)\n",
        "\n",
        "@app.route('/get_data/', methods=['POST'])\n",
        "def get_data():\n",
        "    try:\n",
        "\n",
        "        data = request.get_json()\n",
        "        startDate = data['startDate']\n",
        "        endDate = data['endDate']\n",
        "        branch = data['branch']\n",
        "        itemCode = data['itemCode']\n",
        "\n",
        "        dataset = pd.read_excel('/content/Sample Data S00062.xlsx')\n",
        "        dataset['Document Date'] = pd.to_datetime(dataset['Document Date'], dayfirst=True)\n",
        "\n",
        "        rs = dataset[(dataset['Document Date'] >= startDate) & (\n",
        "            dataset['Document Date'] < endDate) & (dataset['Branch'] == branch) & (dataset['Item Code'] == itemCode)]\n",
        "        rs = rs.sort_values(by='Document Date')\n",
        "\n",
        "        rs['RUNNING STOCK'] = rs['Total Qty IN'].cumsum() - rs['Total Qty OUT'].cumsum()\n",
        "        rs['DAYS BETWEEN'] = rs['Document Date'].diff().dt.days\n",
        "\n",
        "        filtered_rs = rs[rs['RUNNING STOCK'] <= 0]\n",
        "\n",
        "        sum_days_between = filtered_rs['DAYS BETWEEN'].sum()\n",
        "        result = rs.to_dict(orient='records')\n",
        "\n",
        "        ctime = datetime.now()\n",
        "        output_file = f'{itemCode}_output_data{ctime}.xlsx'\n",
        "        rs.to_excel(output_file)\n",
        "\n",
        "\n",
        "        data_to_return = filtered_rs.to_dict(orient='records')\n",
        "        return jsonify({\n",
        "            \"File Upload\": output_file,\n",
        "            \"Out OF Stock Days\": float(sum_days_between),\n",
        "            \"data\": data_to_return\n",
        "        })\n",
        "\n",
        "    except Exception as e:\n",
        "        return jsonify({\"error\": str(e)}), 500\n",
        "\n",
        "if __name__ == \"__main__\":\n",
        "    app.run(host=\"0.0.0.0\", port=8001)\n"
      ],
      "metadata": {
        "colab": {
          "base_uri": "https://localhost:8080/"
        },
        "id": "LJxTYYLLMOVy",
        "outputId": "2f59946d-7f6b-4c58-f253-0ce4bdd459d4"
      },
      "execution_count": null,
      "outputs": [
        {
          "output_type": "stream",
          "name": "stdout",
          "text": [
            " * Serving Flask app '__main__'\n",
            " * Debug mode: off\n"
          ]
        },
        {
          "output_type": "stream",
          "name": "stderr",
          "text": [
            "INFO:werkzeug:\u001b[31m\u001b[1mWARNING: This is a development server. Do not use it in a production deployment. Use a production WSGI server instead.\u001b[0m\n",
            " * Running on all addresses (0.0.0.0)\n",
            " * Running on http://127.0.0.1:8001\n",
            " * Running on http://172.28.0.12:8001\n",
            "INFO:werkzeug:\u001b[33mPress CTRL+C to quit\u001b[0m\n",
            "INFO:werkzeug:127.0.0.1 - - [19/Oct/2023 07:47:37] \"POST /get_data/ HTTP/1.1\" 200 -\n"
          ]
        }
      ]
    },
    {
      "cell_type": "code",
      "source": [
        "!pip install pyngrok\n",
        "from pyngrok import ngrok\n",
        "\n",
        "port = 8001\n",
        "\n",
        "public_url = ngrok.connect(addr=port)\n",
        "\n",
        "print('ngrok is active at:', public_url)\n"
      ],
      "metadata": {
        "colab": {
          "base_uri": "https://localhost:8080/"
        },
        "id": "TaS7tw7AODnx",
        "outputId": "7a4d2d13-ffcb-4d2c-bd17-a004476e92d6"
      },
      "execution_count": 50,
      "outputs": [
        {
          "output_type": "stream",
          "name": "stdout",
          "text": [
            "Requirement already satisfied: pyngrok in /usr/local/lib/python3.10/dist-packages (7.0.0)\n",
            "Requirement already satisfied: PyYAML in /usr/local/lib/python3.10/dist-packages (from pyngrok) (6.0.1)\n"
          ]
        },
        {
          "output_type": "stream",
          "name": "stderr",
          "text": [
            "WARNING:pyngrok.process.ngrok:t=2023-10-19T07:46:49+0000 lvl=warn msg=\"ngrok config file found at legacy location, move to XDG location\" xdg_path=/root/.config/ngrok/ngrok.yml legacy_path=/root/.ngrok2/ngrok.yml\n"
          ]
        },
        {
          "output_type": "stream",
          "name": "stdout",
          "text": [
            "ngrok is active at: NgrokTunnel: \"https://760c-35-234-19-68.ngrok.io\" -> \"http://localhost:8001\"\n"
          ]
        }
      ]
    },
    {
      "cell_type": "code",
      "source": [
        "with open('/content/response.json', 'r') as json_file:\n",
        "    json_data = json.load(json_file)\n",
        "    print(json_data)\n"
      ],
      "metadata": {
        "colab": {
          "base_uri": "https://localhost:8080/"
        },
        "id": "Xdm92VOxp1cL",
        "outputId": "58e85c7c-e738-4baa-c59b-ec09d45d387f"
      },
      "execution_count": 30,
      "outputs": [
        {
          "output_type": "stream",
          "name": "stdout",
          "text": [
            "{'File Upload': 'SAL009_output_data2023-10-18 09:01:35.262099.xlsx', 'Out OF Stock Days': 120.0, 'data': [{'Branch': 'DAN002', 'DAYS BETWEEN': 1.0, 'Date Day': 5, 'Date Month': 1, 'Date Year': 2023, 'Document Date': 'Thu, 05 Jan 2023 00:00:00 GMT', 'Item Code': 'SAL009', 'Item Name': 'SALIT COOKING OIL 20LT', 'RUNNING STOCK': 0.0, 'Total Qty IN': 35.0, 'Total Qty OUT': 1692.0}, {'Branch': 'DAN002', 'DAYS BETWEEN': 1.0, 'Date Day': 6, 'Date Month': 1, 'Date Year': 2023, 'Document Date': 'Fri, 06 Jan 2023 00:00:00 GMT', 'Item Code': 'SAL009', 'Item Name': 'SALIT COOKING OIL 20LT', 'RUNNING STOCK': 0.0, 'Total Qty IN': 26.0, 'Total Qty OUT': 26.0}, {'Branch': 'DAN002', 'DAYS BETWEEN': 1.0, 'Date Day': 7, 'Date Month': 1, 'Date Year': 2023, 'Document Date': 'Sat, 07 Jan 2023 00:00:00 GMT', 'Item Code': 'SAL009', 'Item Name': 'SALIT COOKING OIL 20LT', 'RUNNING STOCK': 0.0, 'Total Qty IN': 52.0, 'Total Qty OUT': 52.0}, {'Branch': 'DAN002', 'DAYS BETWEEN': 1.0, 'Date Day': 11, 'Date Month': 1, 'Date Year': 2023, 'Document Date': 'Wed, 11 Jan 2023 00:00:00 GMT', 'Item Code': 'SAL009', 'Item Name': 'SALIT COOKING OIL 20LT', 'RUNNING STOCK': 0.0, 'Total Qty IN': 31.0, 'Total Qty OUT': 93.0}, {'Branch': 'DAN002', 'DAYS BETWEEN': 1.0, 'Date Day': 12, 'Date Month': 1, 'Date Year': 2023, 'Document Date': 'Thu, 12 Jan 2023 00:00:00 GMT', 'Item Code': 'SAL009', 'Item Name': 'SALIT COOKING OIL 20LT', 'RUNNING STOCK': 0.0, 'Total Qty IN': 1014.0, 'Total Qty OUT': 1014.0}, {'Branch': 'DAN002', 'DAYS BETWEEN': 1.0, 'Date Day': 13, 'Date Month': 1, 'Date Year': 2023, 'Document Date': 'Fri, 13 Jan 2023 00:00:00 GMT', 'Item Code': 'SAL009', 'Item Name': 'SALIT COOKING OIL 20LT', 'RUNNING STOCK': 0.0, 'Total Qty IN': 23.0, 'Total Qty OUT': 23.0}, {'Branch': 'DAN002', 'DAYS BETWEEN': 1.0, 'Date Day': 14, 'Date Month': 1, 'Date Year': 2023, 'Document Date': 'Sat, 14 Jan 2023 00:00:00 GMT', 'Item Code': 'SAL009', 'Item Name': 'SALIT COOKING OIL 20LT', 'RUNNING STOCK': 0.0, 'Total Qty IN': 21.0, 'Total Qty OUT': 21.0}, {'Branch': 'DAN002', 'DAYS BETWEEN': 2.0, 'Date Day': 16, 'Date Month': 1, 'Date Year': 2023, 'Document Date': 'Mon, 16 Jan 2023 00:00:00 GMT', 'Item Code': 'SAL009', 'Item Name': 'SALIT COOKING OIL 20LT', 'RUNNING STOCK': 0.0, 'Total Qty IN': 7.0, 'Total Qty OUT': 7.0}, {'Branch': 'DAN002', 'DAYS BETWEEN': 1.0, 'Date Day': 17, 'Date Month': 1, 'Date Year': 2023, 'Document Date': 'Tue, 17 Jan 2023 00:00:00 GMT', 'Item Code': 'SAL009', 'Item Name': 'SALIT COOKING OIL 20LT', 'RUNNING STOCK': 0.0, 'Total Qty IN': 1.0, 'Total Qty OUT': 1.0}, {'Branch': 'DAN002', 'DAYS BETWEEN': 1.0, 'Date Day': 18, 'Date Month': 1, 'Date Year': 2023, 'Document Date': 'Wed, 18 Jan 2023 00:00:00 GMT', 'Item Code': 'SAL009', 'Item Name': 'SALIT COOKING OIL 20LT', 'RUNNING STOCK': 0.0, 'Total Qty IN': 1.0, 'Total Qty OUT': 1.0}, {'Branch': 'DAN002', 'DAYS BETWEEN': 3.0, 'Date Day': 21, 'Date Month': 1, 'Date Year': 2023, 'Document Date': 'Sat, 21 Jan 2023 00:00:00 GMT', 'Item Code': 'SAL009', 'Item Name': 'SALIT COOKING OIL 20LT', 'RUNNING STOCK': 0.0, 'Total Qty IN': 1.0, 'Total Qty OUT': 1.0}, {'Branch': 'DAN002', 'DAYS BETWEEN': 4.0, 'Date Day': 25, 'Date Month': 1, 'Date Year': 2023, 'Document Date': 'Wed, 25 Jan 2023 00:00:00 GMT', 'Item Code': 'SAL009', 'Item Name': 'SALIT COOKING OIL 20LT', 'RUNNING STOCK': 0.0, 'Total Qty IN': 0.0, 'Total Qty OUT': 0.0}, {'Branch': 'DAN002', 'DAYS BETWEEN': 40.0, 'Date Day': 6, 'Date Month': 3, 'Date Year': 2023, 'Document Date': 'Mon, 06 Mar 2023 00:00:00 GMT', 'Item Code': 'SAL009', 'Item Name': 'SALIT COOKING OIL 20LT', 'RUNNING STOCK': 0.0, 'Total Qty IN': 3.0, 'Total Qty OUT': 3.0}, {'Branch': 'DAN002', 'DAYS BETWEEN': 1.0, 'Date Day': 3, 'Date Month': 4, 'Date Year': 2023, 'Document Date': 'Mon, 03 Apr 2023 00:00:00 GMT', 'Item Code': 'SAL009', 'Item Name': 'SALIT COOKING OIL 20LT', 'RUNNING STOCK': 0.0, 'Total Qty IN': 18.0, 'Total Qty OUT': 53.0}, {'Branch': 'DAN002', 'DAYS BETWEEN': 1.0, 'Date Day': 4, 'Date Month': 4, 'Date Year': 2023, 'Document Date': 'Tue, 04 Apr 2023 00:00:00 GMT', 'Item Code': 'SAL009', 'Item Name': 'SALIT COOKING OIL 20LT', 'RUNNING STOCK': 0.0, 'Total Qty IN': 5.0, 'Total Qty OUT': 5.0}, {'Branch': 'DAN002', 'DAYS BETWEEN': 1.0, 'Date Day': 5, 'Date Month': 4, 'Date Year': 2023, 'Document Date': 'Wed, 05 Apr 2023 00:00:00 GMT', 'Item Code': 'SAL009', 'Item Name': 'SALIT COOKING OIL 20LT', 'RUNNING STOCK': 0.0, 'Total Qty IN': 21.0, 'Total Qty OUT': 21.0}, {'Branch': 'DAN002', 'DAYS BETWEEN': 1.0, 'Date Day': 6, 'Date Month': 4, 'Date Year': 2023, 'Document Date': 'Thu, 06 Apr 2023 00:00:00 GMT', 'Item Code': 'SAL009', 'Item Name': 'SALIT COOKING OIL 20LT', 'RUNNING STOCK': 0.0, 'Total Qty IN': 1.0, 'Total Qty OUT': 1.0}, {'Branch': 'DAN002', 'DAYS BETWEEN': 1.0, 'Date Day': 7, 'Date Month': 4, 'Date Year': 2023, 'Document Date': 'Fri, 07 Apr 2023 00:00:00 GMT', 'Item Code': 'SAL009', 'Item Name': 'SALIT COOKING OIL 20LT', 'RUNNING STOCK': 0.0, 'Total Qty IN': 1.0, 'Total Qty OUT': 1.0}, {'Branch': 'DAN002', 'DAYS BETWEEN': 1.0, 'Date Day': 8, 'Date Month': 4, 'Date Year': 2023, 'Document Date': 'Sat, 08 Apr 2023 00:00:00 GMT', 'Item Code': 'SAL009', 'Item Name': 'SALIT COOKING OIL 20LT', 'RUNNING STOCK': 0.0, 'Total Qty IN': 1.0, 'Total Qty OUT': 1.0}, {'Branch': 'DAN002', 'DAYS BETWEEN': 3.0, 'Date Day': 11, 'Date Month': 4, 'Date Year': 2023, 'Document Date': 'Tue, 11 Apr 2023 00:00:00 GMT', 'Item Code': 'SAL009', 'Item Name': 'SALIT COOKING OIL 20LT', 'RUNNING STOCK': 0.0, 'Total Qty IN': 1.0, 'Total Qty OUT': 1.0}, {'Branch': 'DAN002', 'DAYS BETWEEN': 1.0, 'Date Day': 12, 'Date Month': 4, 'Date Year': 2023, 'Document Date': 'Wed, 12 Apr 2023 00:00:00 GMT', 'Item Code': 'SAL009', 'Item Name': 'SALIT COOKING OIL 20LT', 'RUNNING STOCK': 0.0, 'Total Qty IN': 1.0, 'Total Qty OUT': 1.0}, {'Branch': 'DAN002', 'DAYS BETWEEN': 1.0, 'Date Day': 13, 'Date Month': 4, 'Date Year': 2023, 'Document Date': 'Thu, 13 Apr 2023 00:00:00 GMT', 'Item Code': 'SAL009', 'Item Name': 'SALIT COOKING OIL 20LT', 'RUNNING STOCK': 0.0, 'Total Qty IN': 1.0, 'Total Qty OUT': 1.0}, {'Branch': 'DAN002', 'DAYS BETWEEN': 1.0, 'Date Day': 14, 'Date Month': 4, 'Date Year': 2023, 'Document Date': 'Fri, 14 Apr 2023 00:00:00 GMT', 'Item Code': 'SAL009', 'Item Name': 'SALIT COOKING OIL 20LT', 'RUNNING STOCK': 0.0, 'Total Qty IN': 1500.0, 'Total Qty OUT': 1500.0}, {'Branch': 'DAN002', 'DAYS BETWEEN': 1.0, 'Date Day': 15, 'Date Month': 4, 'Date Year': 2023, 'Document Date': 'Sat, 15 Apr 2023 00:00:00 GMT', 'Item Code': 'SAL009', 'Item Name': 'SALIT COOKING OIL 20LT', 'RUNNING STOCK': 0.0, 'Total Qty IN': 1510.0, 'Total Qty OUT': 1510.0}, {'Branch': 'DAN002', 'DAYS BETWEEN': 2.0, 'Date Day': 17, 'Date Month': 4, 'Date Year': 2023, 'Document Date': 'Mon, 17 Apr 2023 00:00:00 GMT', 'Item Code': 'SAL009', 'Item Name': 'SALIT COOKING OIL 20LT', 'RUNNING STOCK': 0.0, 'Total Qty IN': 1012.0, 'Total Qty OUT': 1012.0}, {'Branch': 'DAN002', 'DAYS BETWEEN': 1.0, 'Date Day': 18, 'Date Month': 4, 'Date Year': 2023, 'Document Date': 'Tue, 18 Apr 2023 00:00:00 GMT', 'Item Code': 'SAL009', 'Item Name': 'SALIT COOKING OIL 20LT', 'RUNNING STOCK': 0.0, 'Total Qty IN': 26.0, 'Total Qty OUT': 26.0}, {'Branch': 'DAN002', 'DAYS BETWEEN': 1.0, 'Date Day': 25, 'Date Month': 4, 'Date Year': 2023, 'Document Date': 'Tue, 25 Apr 2023 00:00:00 GMT', 'Item Code': 'SAL009', 'Item Name': 'SALIT COOKING OIL 20LT', 'RUNNING STOCK': 0.0, 'Total Qty IN': 31.0, 'Total Qty OUT': 59.0}, {'Branch': 'DAN002', 'DAYS BETWEEN': 1.0, 'Date Day': 26, 'Date Month': 4, 'Date Year': 2023, 'Document Date': 'Wed, 26 Apr 2023 00:00:00 GMT', 'Item Code': 'SAL009', 'Item Name': 'SALIT COOKING OIL 20LT', 'RUNNING STOCK': 0.0, 'Total Qty IN': 14.0, 'Total Qty OUT': 14.0}, {'Branch': 'DAN002', 'DAYS BETWEEN': 2.0, 'Date Day': 28, 'Date Month': 4, 'Date Year': 2023, 'Document Date': 'Fri, 28 Apr 2023 00:00:00 GMT', 'Item Code': 'SAL009', 'Item Name': 'SALIT COOKING OIL 20LT', 'RUNNING STOCK': 0.0, 'Total Qty IN': 1326.0, 'Total Qty OUT': 1326.0}, {'Branch': 'DAN002', 'DAYS BETWEEN': 1.0, 'Date Day': 4, 'Date Month': 5, 'Date Year': 2023, 'Document Date': 'Thu, 04 May 2023 00:00:00 GMT', 'Item Code': 'SAL009', 'Item Name': 'SALIT COOKING OIL 20LT', 'RUNNING STOCK': 0.0, 'Total Qty IN': 10.0, 'Total Qty OUT': 1067.0}, {'Branch': 'DAN002', 'DAYS BETWEEN': 1.0, 'Date Day': 5, 'Date Month': 5, 'Date Year': 2023, 'Document Date': 'Fri, 05 May 2023 00:00:00 GMT', 'Item Code': 'SAL009', 'Item Name': 'SALIT COOKING OIL 20LT', 'RUNNING STOCK': 0.0, 'Total Qty IN': 5.0, 'Total Qty OUT': 5.0}, {'Branch': 'DAN002', 'DAYS BETWEEN': 1.0, 'Date Day': 6, 'Date Month': 5, 'Date Year': 2023, 'Document Date': 'Sat, 06 May 2023 00:00:00 GMT', 'Item Code': 'SAL009', 'Item Name': 'SALIT COOKING OIL 20LT', 'RUNNING STOCK': 0.0, 'Total Qty IN': 1016.0, 'Total Qty OUT': 1016.0}, {'Branch': 'DAN002', 'DAYS BETWEEN': 2.0, 'Date Day': 8, 'Date Month': 5, 'Date Year': 2023, 'Document Date': 'Mon, 08 May 2023 00:00:00 GMT', 'Item Code': 'SAL009', 'Item Name': 'SALIT COOKING OIL 20LT', 'RUNNING STOCK': 0.0, 'Total Qty IN': 909.0, 'Total Qty OUT': 909.0}, {'Branch': 'DAN002', 'DAYS BETWEEN': 1.0, 'Date Day': 9, 'Date Month': 5, 'Date Year': 2023, 'Document Date': 'Tue, 09 May 2023 00:00:00 GMT', 'Item Code': 'SAL009', 'Item Name': 'SALIT COOKING OIL 20LT', 'RUNNING STOCK': 0.0, 'Total Qty IN': 1107.0, 'Total Qty OUT': 1107.0}, {'Branch': 'DAN002', 'DAYS BETWEEN': 1.0, 'Date Day': 10, 'Date Month': 5, 'Date Year': 2023, 'Document Date': 'Wed, 10 May 2023 00:00:00 GMT', 'Item Code': 'SAL009', 'Item Name': 'SALIT COOKING OIL 20LT', 'RUNNING STOCK': 0.0, 'Total Qty IN': 14.0, 'Total Qty OUT': 14.0}, {'Branch': 'DAN002', 'DAYS BETWEEN': 1.0, 'Date Day': 11, 'Date Month': 5, 'Date Year': 2023, 'Document Date': 'Thu, 11 May 2023 00:00:00 GMT', 'Item Code': 'SAL009', 'Item Name': 'SALIT COOKING OIL 20LT', 'RUNNING STOCK': 0.0, 'Total Qty IN': 1025.0, 'Total Qty OUT': 1025.0}, {'Branch': 'DAN002', 'DAYS BETWEEN': 1.0, 'Date Day': 12, 'Date Month': 5, 'Date Year': 2023, 'Document Date': 'Fri, 12 May 2023 00:00:00 GMT', 'Item Code': 'SAL009', 'Item Name': 'SALIT COOKING OIL 20LT', 'RUNNING STOCK': 0.0, 'Total Qty IN': 14.0, 'Total Qty OUT': 14.0}, {'Branch': 'DAN002', 'DAYS BETWEEN': 1.0, 'Date Day': 13, 'Date Month': 5, 'Date Year': 2023, 'Document Date': 'Sat, 13 May 2023 00:00:00 GMT', 'Item Code': 'SAL009', 'Item Name': 'SALIT COOKING OIL 20LT', 'RUNNING STOCK': 0.0, 'Total Qty IN': 9.0, 'Total Qty OUT': 9.0}, {'Branch': 'DAN002', 'DAYS BETWEEN': 1.0, 'Date Day': 17, 'Date Month': 5, 'Date Year': 2023, 'Document Date': 'Wed, 17 May 2023 00:00:00 GMT', 'Item Code': 'SAL009', 'Item Name': 'SALIT COOKING OIL 20LT', 'RUNNING STOCK': 0.0, 'Total Qty IN': 0.0, 'Total Qty OUT': 753.0}, {'Branch': 'DAN002', 'DAYS BETWEEN': 1.0, 'Date Day': 21, 'Date Month': 6, 'Date Year': 2023, 'Document Date': 'Wed, 21 Jun 2023 00:00:00 GMT', 'Item Code': 'SAL009', 'Item Name': 'SALIT COOKING OIL 20LT', 'RUNNING STOCK': 0.0, 'Total Qty IN': 10.0, 'Total Qty OUT': 812.0}, {'Branch': 'DAN002', 'DAYS BETWEEN': 1.0, 'Date Day': 23, 'Date Month': 6, 'Date Year': 2023, 'Document Date': 'Fri, 23 Jun 2023 00:00:00 GMT', 'Item Code': 'SAL009', 'Item Name': 'SALIT COOKING OIL 20LT', 'RUNNING STOCK': 0.0, 'Total Qty IN': 13.0, 'Total Qty OUT': 1303.0}, {'Branch': 'DAN002', 'DAYS BETWEEN': 1.0, 'Date Day': 24, 'Date Month': 6, 'Date Year': 2023, 'Document Date': 'Sat, 24 Jun 2023 00:00:00 GMT', 'Item Code': 'SAL009', 'Item Name': 'SALIT COOKING OIL 20LT', 'RUNNING STOCK': 0.0, 'Total Qty IN': 8.0, 'Total Qty OUT': 8.0}, {'Branch': 'DAN002', 'DAYS BETWEEN': 2.0, 'Date Day': 26, 'Date Month': 6, 'Date Year': 2023, 'Document Date': 'Mon, 26 Jun 2023 00:00:00 GMT', 'Item Code': 'SAL009', 'Item Name': 'SALIT COOKING OIL 20LT', 'RUNNING STOCK': 0.0, 'Total Qty IN': 92.0, 'Total Qty OUT': 92.0}, {'Branch': 'DAN002', 'DAYS BETWEEN': 1.0, 'Date Day': 27, 'Date Month': 6, 'Date Year': 2023, 'Document Date': 'Tue, 27 Jun 2023 00:00:00 GMT', 'Item Code': 'SAL009', 'Item Name': 'SALIT COOKING OIL 20LT', 'RUNNING STOCK': 0.0, 'Total Qty IN': 3.0, 'Total Qty OUT': 3.0}, {'Branch': 'DAN002', 'DAYS BETWEEN': 2.0, 'Date Day': 29, 'Date Month': 6, 'Date Year': 2023, 'Document Date': 'Thu, 29 Jun 2023 00:00:00 GMT', 'Item Code': 'SAL009', 'Item Name': 'SALIT COOKING OIL 20LT', 'RUNNING STOCK': 0.0, 'Total Qty IN': 2.0, 'Total Qty OUT': 2.0}, {'Branch': 'DAN002', 'DAYS BETWEEN': 1.0, 'Date Day': 17, 'Date Month': 7, 'Date Year': 2023, 'Document Date': 'Mon, 17 Jul 2023 00:00:00 GMT', 'Item Code': 'SAL009', 'Item Name': 'SALIT COOKING OIL 20LT', 'RUNNING STOCK': 0.0, 'Total Qty IN': 38.0, 'Total Qty OUT': 51.0}, {'Branch': 'DAN002', 'DAYS BETWEEN': 1.0, 'Date Day': 18, 'Date Month': 7, 'Date Year': 2023, 'Document Date': 'Tue, 18 Jul 2023 00:00:00 GMT', 'Item Code': 'SAL009', 'Item Name': 'SALIT COOKING OIL 20LT', 'RUNNING STOCK': 0.0, 'Total Qty IN': 2.0, 'Total Qty OUT': 2.0}, {'Branch': 'DAN002', 'DAYS BETWEEN': 1.0, 'Date Day': 21, 'Date Month': 7, 'Date Year': 2023, 'Document Date': 'Fri, 21 Jul 2023 00:00:00 GMT', 'Item Code': 'SAL009', 'Item Name': 'SALIT COOKING OIL 20LT', 'RUNNING STOCK': 0.0, 'Total Qty IN': 0.0, 'Total Qty OUT': 589.0}, {'Branch': 'DAN002', 'DAYS BETWEEN': 1.0, 'Date Day': 1, 'Date Month': 8, 'Date Year': 2023, 'Document Date': 'Tue, 01 Aug 2023 00:00:00 GMT', 'Item Code': 'SAL009', 'Item Name': 'SALIT COOKING OIL 20LT', 'RUNNING STOCK': 0.0, 'Total Qty IN': 7.0, 'Total Qty OUT': 746.0}, {'Branch': 'DAN002', 'DAYS BETWEEN': 1.0, 'Date Day': 2, 'Date Month': 8, 'Date Year': 2023, 'Document Date': 'Wed, 02 Aug 2023 00:00:00 GMT', 'Item Code': 'SAL009', 'Item Name': 'SALIT COOKING OIL 20LT', 'RUNNING STOCK': 0.0, 'Total Qty IN': 34.0, 'Total Qty OUT': 34.0}, {'Branch': 'DAN002', 'DAYS BETWEEN': 1.0, 'Date Day': 3, 'Date Month': 8, 'Date Year': 2023, 'Document Date': 'Thu, 03 Aug 2023 00:00:00 GMT', 'Item Code': 'SAL009', 'Item Name': 'SALIT COOKING OIL 20LT', 'RUNNING STOCK': 0.0, 'Total Qty IN': 18.0, 'Total Qty OUT': 18.0}, {'Branch': 'DAN002', 'DAYS BETWEEN': 1.0, 'Date Day': 4, 'Date Month': 8, 'Date Year': 2023, 'Document Date': 'Fri, 04 Aug 2023 00:00:00 GMT', 'Item Code': 'SAL009', 'Item Name': 'SALIT COOKING OIL 20LT', 'RUNNING STOCK': 0.0, 'Total Qty IN': 1.0, 'Total Qty OUT': 1.0}, {'Branch': 'DAN002', 'DAYS BETWEEN': 1.0, 'Date Day': 15, 'Date Month': 9, 'Date Year': 2023, 'Document Date': 'Fri, 15 Sep 2023 00:00:00 GMT', 'Item Code': 'SAL009', 'Item Name': 'SALIT COOKING OIL 20LT', 'RUNNING STOCK': 0.0, 'Total Qty IN': 202.0, 'Total Qty OUT': 947.0}, {'Branch': 'DAN002', 'DAYS BETWEEN': 2.0, 'Date Day': 17, 'Date Month': 9, 'Date Year': 2023, 'Document Date': 'Sun, 17 Sep 2023 00:00:00 GMT', 'Item Code': 'SAL009', 'Item Name': 'SALIT COOKING OIL 20LT', 'RUNNING STOCK': 0.0, 'Total Qty IN': 13.0, 'Total Qty OUT': 13.0}, {'Branch': 'DAN002', 'DAYS BETWEEN': 1.0, 'Date Day': 18, 'Date Month': 9, 'Date Year': 2023, 'Document Date': 'Mon, 18 Sep 2023 00:00:00 GMT', 'Item Code': 'SAL009', 'Item Name': 'SALIT COOKING OIL 20LT', 'RUNNING STOCK': 0.0, 'Total Qty IN': 1051.0, 'Total Qty OUT': 1051.0}, {'Branch': 'DAN002', 'DAYS BETWEEN': 1.0, 'Date Day': 19, 'Date Month': 9, 'Date Year': 2023, 'Document Date': 'Tue, 19 Sep 2023 00:00:00 GMT', 'Item Code': 'SAL009', 'Item Name': 'SALIT COOKING OIL 20LT', 'RUNNING STOCK': 0.0, 'Total Qty IN': 3.0, 'Total Qty OUT': 3.0}, {'Branch': 'DAN002', 'DAYS BETWEEN': 1.0, 'Date Day': 20, 'Date Month': 9, 'Date Year': 2023, 'Document Date': 'Wed, 20 Sep 2023 00:00:00 GMT', 'Item Code': 'SAL009', 'Item Name': 'SALIT COOKING OIL 20LT', 'RUNNING STOCK': 0.0, 'Total Qty IN': 1.0, 'Total Qty OUT': 1.0}, {'Branch': 'DAN002', 'DAYS BETWEEN': 1.0, 'Date Day': 27, 'Date Month': 9, 'Date Year': 2023, 'Document Date': 'Wed, 27 Sep 2023 00:00:00 GMT', 'Item Code': 'SAL009', 'Item Name': 'SALIT COOKING OIL 20LT', 'RUNNING STOCK': 0.0, 'Total Qty IN': 6.0, 'Total Qty OUT': 569.0}, {'Branch': 'DAN002', 'DAYS BETWEEN': 1.0, 'Date Day': 28, 'Date Month': 9, 'Date Year': 2023, 'Document Date': 'Thu, 28 Sep 2023 00:00:00 GMT', 'Item Code': 'SAL009', 'Item Name': 'SALIT COOKING OIL 20LT', 'RUNNING STOCK': 0.0, 'Total Qty IN': 40.0, 'Total Qty OUT': 40.0}, {'Branch': 'DAN002', 'DAYS BETWEEN': 1.0, 'Date Day': 29, 'Date Month': 9, 'Date Year': 2023, 'Document Date': 'Fri, 29 Sep 2023 00:00:00 GMT', 'Item Code': 'SAL009', 'Item Name': 'SALIT COOKING OIL 20LT', 'RUNNING STOCK': 0.0, 'Total Qty IN': 1004.0, 'Total Qty OUT': 1004.0}, {'Branch': 'DAN002', 'DAYS BETWEEN': 1.0, 'Date Day': 2, 'Date Month': 10, 'Date Year': 2023, 'Document Date': 'Mon, 02 Oct 2023 00:00:00 GMT', 'Item Code': 'SAL009', 'Item Name': 'SALIT COOKING OIL 20LT', 'RUNNING STOCK': 0.0, 'Total Qty IN': 13.0, 'Total Qty OUT': 554.0}, {'Branch': 'DAN002', 'DAYS BETWEEN': 1.0, 'Date Day': 3, 'Date Month': 10, 'Date Year': 2023, 'Document Date': 'Tue, 03 Oct 2023 00:00:00 GMT', 'Item Code': 'SAL009', 'Item Name': 'SALIT COOKING OIL 20LT', 'RUNNING STOCK': 0.0, 'Total Qty IN': 5.0, 'Total Qty OUT': 5.0}, {'Branch': 'DAN002', 'DAYS BETWEEN': 1.0, 'Date Day': 4, 'Date Month': 10, 'Date Year': 2023, 'Document Date': 'Wed, 04 Oct 2023 00:00:00 GMT', 'Item Code': 'SAL009', 'Item Name': 'SALIT COOKING OIL 20LT', 'RUNNING STOCK': 0.0, 'Total Qty IN': 1500.0, 'Total Qty OUT': 1500.0}, {'Branch': 'DAN002', 'DAYS BETWEEN': 1.0, 'Date Day': 9, 'Date Month': 10, 'Date Year': 2023, 'Document Date': 'Mon, 09 Oct 2023 00:00:00 GMT', 'Item Code': 'SAL009', 'Item Name': 'SALIT COOKING OIL 20LT', 'RUNNING STOCK': 0.0, 'Total Qty IN': 11.0, 'Total Qty OUT': 76.0}, {'Branch': 'DAN002', 'DAYS BETWEEN': 1.0, 'Date Day': 10, 'Date Month': 10, 'Date Year': 2023, 'Document Date': 'Tue, 10 Oct 2023 00:00:00 GMT', 'Item Code': 'SAL009', 'Item Name': 'SALIT COOKING OIL 20LT', 'RUNNING STOCK': 0.0, 'Total Qty IN': 2.0, 'Total Qty OUT': 2.0}, {'Branch': 'DAN002', 'DAYS BETWEEN': 2.0, 'Date Day': 12, 'Date Month': 10, 'Date Year': 2023, 'Document Date': 'Thu, 12 Oct 2023 00:00:00 GMT', 'Item Code': 'SAL009', 'Item Name': 'SALIT COOKING OIL 20LT', 'RUNNING STOCK': 0.0, 'Total Qty IN': 0.0, 'Total Qty OUT': 0.0}]}\n"
          ]
        }
      ]
    },
    {
      "cell_type": "code",
      "source": [
        "from IPython.display import HTML\n",
        "import json\n",
        "\n",
        "chart_js_code = \"\"\"\n",
        "<script src=\"https://cdn.jsdelivr.net/npm/chart.js\"></script>\n",
        "<canvas id=\"real-time-chart\"></canvas>\n",
        "<script>\n",
        "    function fetch_data_from_local_json() {\n",
        "        try {\n",
        "            // You can specify the path to your JSON file here\n",
        "            var json_file_path = 'response.json'\n",
        "\n",
        "            // Perform an AJAX request to fetch the JSON data\n",
        "            var xhr = new XMLHttpRequest();\n",
        "            xhr.open('GET', json_file_path, false);  // Synchronous request\n",
        "            xhr.send(null);\n",
        "\n",
        "            if (xhr.status === 200) {\n",
        "                return JSON.parse(xhr.responseText);\n",
        "            }\n",
        "        } catch (e) {\n",
        "            console.error(\"Error:\", e);\n",
        "        }\n",
        "        return null;\n",
        "    }\n",
        "\n",
        "    var ctx = document.getElementById('real-time-chart').getContext('2d');\n",
        "    var data = {\n",
        "        labels: [],\n",
        "        datasets: [\n",
        "            {\n",
        "                label: 'Total Qty IN',\n",
        "                borderColor: 'blue',\n",
        "                data: [],\n",
        "            },\n",
        "            {\n",
        "                label: 'Total Qty OUT',\n",
        "                borderColor: 'red',\n",
        "                data: [],\n",
        "            },\n",
        "            {\n",
        "                label: 'Running Stock',\n",
        "                borderColor: 'green',\n",
        "                data: [],\n",
        "            }\n",
        "        ],\n",
        "    };\n",
        "    var config = {\n",
        "        type: 'line',\n",
        "        data: data,\n",
        "        options: {\n",
        "            scales: {\n",
        "                x: {\n",
        "                    type: 'linear',\n",
        "                    position: 'bottom',\n",
        "                },\n",
        "                y: {\n",
        "                    beginAtZero: true,\n",
        "                },\n",
        "            },\n",
        "        },\n",
        "    };\n",
        "    var chart = new Chart(ctx, config);\n",
        "\n",
        "    function updateChart() {\n",
        "        var newData = fetch_data_from_local_json();\n",
        "        if (newData) {\n",
        "            data.labels.push(newData['data'][0]['Document Date']);\n",
        "            data.datasets[0].data.push(newData['data'][0]['Total Qty IN']);\n",
        "            data.datasets[1].data.push(newData['data'][0]['Total Qty OUT']);\n",
        "            data.datasets[2].data.push(newData['data'][0]['RUNNING STOCK']);\n",
        "            chart.update();\n",
        "        }\n",
        "    }\n",
        "\n",
        "    // Update the chart every 5 seconds\n",
        "    setInterval(updateChart, 5000);\n",
        "</script>\n",
        "\"\"\"\n",
        "\n",
        "display(HTML(chart_js_code))\n"
      ],
      "metadata": {
        "id": "0QeIrtW3rYZr",
        "colab": {
          "base_uri": "https://localhost:8080/",
          "height": 331
        },
        "outputId": "88ab1b44-3d57-4999-9f91-3cf5734e1cf3"
      },
      "execution_count": 47,
      "outputs": [
        {
          "output_type": "display_data",
          "data": {
            "text/plain": [
              "<IPython.core.display.HTML object>"
            ],
            "text/html": [
              "\n",
              "<script src=\"https://cdn.jsdelivr.net/npm/chart.js\"></script>\n",
              "<canvas id=\"real-time-chart\"></canvas>\n",
              "<script>\n",
              "    function fetch_data_from_local_json() {\n",
              "        try {\n",
              "            // You can specify the path to your JSON file here\n",
              "            var json_file_path = 'response.json'\n",
              "\n",
              "            // Perform an AJAX request to fetch the JSON data\n",
              "            var xhr = new XMLHttpRequest();\n",
              "            xhr.open('GET', json_file_path, false);  // Synchronous request\n",
              "            xhr.send(null);\n",
              "\n",
              "            if (xhr.status === 200) {\n",
              "                return JSON.parse(xhr.responseText);\n",
              "            }\n",
              "        } catch (e) {\n",
              "            console.error(\"Error:\", e);\n",
              "        }\n",
              "        return null;\n",
              "    }\n",
              "\n",
              "    var ctx = document.getElementById('real-time-chart').getContext('2d');\n",
              "    var data = {\n",
              "        labels: [],\n",
              "        datasets: [\n",
              "            {\n",
              "                label: 'Total Qty IN',\n",
              "                borderColor: 'blue',\n",
              "                data: [],\n",
              "            },\n",
              "            {\n",
              "                label: 'Total Qty OUT',\n",
              "                borderColor: 'red',\n",
              "                data: [],\n",
              "            },\n",
              "            {\n",
              "                label: 'Running Stock',\n",
              "                borderColor: 'green',\n",
              "                data: [],\n",
              "            }\n",
              "        ],\n",
              "    };\n",
              "    var config = {\n",
              "        type: 'line',\n",
              "        data: data,\n",
              "        options: {\n",
              "            scales: {\n",
              "                x: {\n",
              "                    type: 'linear',\n",
              "                    position: 'bottom',\n",
              "                },\n",
              "                y: {\n",
              "                    beginAtZero: true,\n",
              "                },\n",
              "            },\n",
              "        },\n",
              "    };\n",
              "    var chart = new Chart(ctx, config);\n",
              "\n",
              "    function updateChart() {\n",
              "        var newData = fetch_data_from_local_json();\n",
              "        if (newData) {\n",
              "            data.labels.push(newData['data'][0]['Document Date']);\n",
              "            data.datasets[0].data.push(newData['data'][0]['Total Qty IN']);\n",
              "            data.datasets[1].data.push(newData['data'][0]['Total Qty OUT']);\n",
              "            data.datasets[2].data.push(newData['data'][0]['RUNNING STOCK']);\n",
              "            chart.update();\n",
              "        }\n",
              "    }\n",
              "\n",
              "    // Update the chart every 5 seconds\n",
              "    setInterval(updateChart, 5000);\n",
              "</script>\n"
            ]
          },
          "metadata": {}
        }
      ]
    }
  ]
}