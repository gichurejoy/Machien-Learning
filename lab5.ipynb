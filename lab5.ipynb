{
  "nbformat": 4,
  "nbformat_minor": 0,
  "metadata": {
    "colab": {
      "provenance": [],
      "authorship_tag": "ABX9TyPAVHsY2uA1rd49uDujIJLi",
      "include_colab_link": true
    },
    "kernelspec": {
      "name": "python3",
      "display_name": "Python 3"
    },
    "language_info": {
      "name": "python"
    },
    "accelerator": "GPU",
    "gpuClass": "standard"
  },
  "cells": [
    {
      "cell_type": "markdown",
      "metadata": {
        "id": "view-in-github",
        "colab_type": "text"
      },
      "source": [
        "<a href=\"https://colab.research.google.com/github/gichurejoy/Machine-Learning/blob/main/lab5.ipynb\" target=\"_parent\"><img src=\"https://colab.research.google.com/assets/colab-badge.svg\" alt=\"Open In Colab\"/></a>"
      ]
    },
    {
      "cell_type": "code",
      "execution_count": 3,
      "metadata": {
        "colab": {
          "base_uri": "https://localhost:8080/"
        },
        "id": "iuQQK_R8HPBh",
        "outputId": "6347c670-42cc-4d42-80e4-14035b81eb57"
      },
      "outputs": [
        {
          "output_type": "stream",
          "name": "stderr",
          "text": [
            "[nltk_data] Downloading package punkt to /root/nltk_data...\n",
            "[nltk_data]   Package punkt is already up-to-date!\n",
            "[nltk_data] Downloading package stopwords to /root/nltk_data...\n",
            "[nltk_data]   Package stopwords is already up-to-date!\n"
          ]
        },
        {
          "output_type": "execute_result",
          "data": {
            "text/plain": [
              "True"
            ]
          },
          "metadata": {},
          "execution_count": 3
        }
      ],
      "source": [
        "import nltk\n",
        "nltk.download('punkt')              \n",
        "nltk.download('stopwords')"
      ]
    },
    {
      "cell_type": "code",
      "source": [
        "import pandas as pd\n",
        "df = pd.read_csv('LAB3.csv')\n",
        "df.head(15)"
      ],
      "metadata": {
        "colab": {
          "base_uri": "https://localhost:8080/",
          "height": 520
        },
        "id": "9B7_KRviQG6P",
        "outputId": "d0c592d9-e62b-46cd-b868-768a126b66f7"
      },
      "execution_count": 4,
      "outputs": [
        {
          "output_type": "execute_result",
          "data": {
            "text/plain": [
              "                product                                          narrative\n",
              "0   mortgages_and_loans  applied mortgage refinance understand process ...\n",
              "1       debt_collection  received letter demanding payment medical debt...\n",
              "2       debt_collection  car accident fault year old financial help use...\n",
              "3       debt_collection  bad financial shape stemming bad employment si...\n",
              "4       debt_collection  reliant capital solution repeatly call spouse ...\n",
              "5       debt_collection  called company numerous time debt mine sent th...\n",
              "6       debt_collection  mentioned debt collecting agency sent letter d...\n",
              "7           credit_card  late fee accumulated nearly extra fee deferred...\n",
              "8           credit_card  purchased ticket cancelled event requested ref...\n",
              "9       debt_collection  national service bureau threatened jail time r...\n",
              "10      debt_collection  transworld system called repeatedly explained ...\n",
              "11      debt_collection  receiving phone call abc financial regarding o...\n",
              "12       retail_banking  hello used transfer money closed account go ba...\n",
              "13      debt_collection  mailed notice acceptance negotiable instrument...\n",
              "14  mortgages_and_loans  made mortgage payment bank america using coupo..."
            ],
            "text/html": [
              "\n",
              "  <div id=\"df-ae5a0f71-00ee-4d6a-ba47-df75fc058474\">\n",
              "    <div class=\"colab-df-container\">\n",
              "      <div>\n",
              "<style scoped>\n",
              "    .dataframe tbody tr th:only-of-type {\n",
              "        vertical-align: middle;\n",
              "    }\n",
              "\n",
              "    .dataframe tbody tr th {\n",
              "        vertical-align: top;\n",
              "    }\n",
              "\n",
              "    .dataframe thead th {\n",
              "        text-align: right;\n",
              "    }\n",
              "</style>\n",
              "<table border=\"1\" class=\"dataframe\">\n",
              "  <thead>\n",
              "    <tr style=\"text-align: right;\">\n",
              "      <th></th>\n",
              "      <th>product</th>\n",
              "      <th>narrative</th>\n",
              "    </tr>\n",
              "  </thead>\n",
              "  <tbody>\n",
              "    <tr>\n",
              "      <th>0</th>\n",
              "      <td>mortgages_and_loans</td>\n",
              "      <td>applied mortgage refinance understand process ...</td>\n",
              "    </tr>\n",
              "    <tr>\n",
              "      <th>1</th>\n",
              "      <td>debt_collection</td>\n",
              "      <td>received letter demanding payment medical debt...</td>\n",
              "    </tr>\n",
              "    <tr>\n",
              "      <th>2</th>\n",
              "      <td>debt_collection</td>\n",
              "      <td>car accident fault year old financial help use...</td>\n",
              "    </tr>\n",
              "    <tr>\n",
              "      <th>3</th>\n",
              "      <td>debt_collection</td>\n",
              "      <td>bad financial shape stemming bad employment si...</td>\n",
              "    </tr>\n",
              "    <tr>\n",
              "      <th>4</th>\n",
              "      <td>debt_collection</td>\n",
              "      <td>reliant capital solution repeatly call spouse ...</td>\n",
              "    </tr>\n",
              "    <tr>\n",
              "      <th>5</th>\n",
              "      <td>debt_collection</td>\n",
              "      <td>called company numerous time debt mine sent th...</td>\n",
              "    </tr>\n",
              "    <tr>\n",
              "      <th>6</th>\n",
              "      <td>debt_collection</td>\n",
              "      <td>mentioned debt collecting agency sent letter d...</td>\n",
              "    </tr>\n",
              "    <tr>\n",
              "      <th>7</th>\n",
              "      <td>credit_card</td>\n",
              "      <td>late fee accumulated nearly extra fee deferred...</td>\n",
              "    </tr>\n",
              "    <tr>\n",
              "      <th>8</th>\n",
              "      <td>credit_card</td>\n",
              "      <td>purchased ticket cancelled event requested ref...</td>\n",
              "    </tr>\n",
              "    <tr>\n",
              "      <th>9</th>\n",
              "      <td>debt_collection</td>\n",
              "      <td>national service bureau threatened jail time r...</td>\n",
              "    </tr>\n",
              "    <tr>\n",
              "      <th>10</th>\n",
              "      <td>debt_collection</td>\n",
              "      <td>transworld system called repeatedly explained ...</td>\n",
              "    </tr>\n",
              "    <tr>\n",
              "      <th>11</th>\n",
              "      <td>debt_collection</td>\n",
              "      <td>receiving phone call abc financial regarding o...</td>\n",
              "    </tr>\n",
              "    <tr>\n",
              "      <th>12</th>\n",
              "      <td>retail_banking</td>\n",
              "      <td>hello used transfer money closed account go ba...</td>\n",
              "    </tr>\n",
              "    <tr>\n",
              "      <th>13</th>\n",
              "      <td>debt_collection</td>\n",
              "      <td>mailed notice acceptance negotiable instrument...</td>\n",
              "    </tr>\n",
              "    <tr>\n",
              "      <th>14</th>\n",
              "      <td>mortgages_and_loans</td>\n",
              "      <td>made mortgage payment bank america using coupo...</td>\n",
              "    </tr>\n",
              "  </tbody>\n",
              "</table>\n",
              "</div>\n",
              "      <button class=\"colab-df-convert\" onclick=\"convertToInteractive('df-ae5a0f71-00ee-4d6a-ba47-df75fc058474')\"\n",
              "              title=\"Convert this dataframe to an interactive table.\"\n",
              "              style=\"display:none;\">\n",
              "        \n",
              "  <svg xmlns=\"http://www.w3.org/2000/svg\" height=\"24px\"viewBox=\"0 0 24 24\"\n",
              "       width=\"24px\">\n",
              "    <path d=\"M0 0h24v24H0V0z\" fill=\"none\"/>\n",
              "    <path d=\"M18.56 5.44l.94 2.06.94-2.06 2.06-.94-2.06-.94-.94-2.06-.94 2.06-2.06.94zm-11 1L8.5 8.5l.94-2.06 2.06-.94-2.06-.94L8.5 2.5l-.94 2.06-2.06.94zm10 10l.94 2.06.94-2.06 2.06-.94-2.06-.94-.94-2.06-.94 2.06-2.06.94z\"/><path d=\"M17.41 7.96l-1.37-1.37c-.4-.4-.92-.59-1.43-.59-.52 0-1.04.2-1.43.59L10.3 9.45l-7.72 7.72c-.78.78-.78 2.05 0 2.83L4 21.41c.39.39.9.59 1.41.59.51 0 1.02-.2 1.41-.59l7.78-7.78 2.81-2.81c.8-.78.8-2.07 0-2.86zM5.41 20L4 18.59l7.72-7.72 1.47 1.35L5.41 20z\"/>\n",
              "  </svg>\n",
              "      </button>\n",
              "      \n",
              "  <style>\n",
              "    .colab-df-container {\n",
              "      display:flex;\n",
              "      flex-wrap:wrap;\n",
              "      gap: 12px;\n",
              "    }\n",
              "\n",
              "    .colab-df-convert {\n",
              "      background-color: #E8F0FE;\n",
              "      border: none;\n",
              "      border-radius: 50%;\n",
              "      cursor: pointer;\n",
              "      display: none;\n",
              "      fill: #1967D2;\n",
              "      height: 32px;\n",
              "      padding: 0 0 0 0;\n",
              "      width: 32px;\n",
              "    }\n",
              "\n",
              "    .colab-df-convert:hover {\n",
              "      background-color: #E2EBFA;\n",
              "      box-shadow: 0px 1px 2px rgba(60, 64, 67, 0.3), 0px 1px 3px 1px rgba(60, 64, 67, 0.15);\n",
              "      fill: #174EA6;\n",
              "    }\n",
              "\n",
              "    [theme=dark] .colab-df-convert {\n",
              "      background-color: #3B4455;\n",
              "      fill: #D2E3FC;\n",
              "    }\n",
              "\n",
              "    [theme=dark] .colab-df-convert:hover {\n",
              "      background-color: #434B5C;\n",
              "      box-shadow: 0px 1px 3px 1px rgba(0, 0, 0, 0.15);\n",
              "      filter: drop-shadow(0px 1px 2px rgba(0, 0, 0, 0.3));\n",
              "      fill: #FFFFFF;\n",
              "    }\n",
              "  </style>\n",
              "\n",
              "      <script>\n",
              "        const buttonEl =\n",
              "          document.querySelector('#df-ae5a0f71-00ee-4d6a-ba47-df75fc058474 button.colab-df-convert');\n",
              "        buttonEl.style.display =\n",
              "          google.colab.kernel.accessAllowed ? 'block' : 'none';\n",
              "\n",
              "        async function convertToInteractive(key) {\n",
              "          const element = document.querySelector('#df-ae5a0f71-00ee-4d6a-ba47-df75fc058474');\n",
              "          const dataTable =\n",
              "            await google.colab.kernel.invokeFunction('convertToInteractive',\n",
              "                                                     [key], {});\n",
              "          if (!dataTable) return;\n",
              "\n",
              "          const docLinkHtml = 'Like what you see? Visit the ' +\n",
              "            '<a target=\"_blank\" href=https://colab.research.google.com/notebooks/data_table.ipynb>data table notebook</a>'\n",
              "            + ' to learn more about interactive tables.';\n",
              "          element.innerHTML = '';\n",
              "          dataTable['output_type'] = 'display_data';\n",
              "          await google.colab.output.renderOutput(dataTable, element);\n",
              "          const docLink = document.createElement('div');\n",
              "          docLink.innerHTML = docLinkHtml;\n",
              "          element.appendChild(docLink);\n",
              "        }\n",
              "      </script>\n",
              "    </div>\n",
              "  </div>\n",
              "  "
            ]
          },
          "metadata": {},
          "execution_count": 4
        }
      ]
    },
    {
      "cell_type": "code",
      "source": [
        "df['product'].value_counts()"
      ],
      "metadata": {
        "colab": {
          "base_uri": "https://localhost:8080/"
        },
        "id": "EWc_e2xCQcUu",
        "outputId": "46ddb2f0-25d3-46d1-af75-772a9bcc8734"
      },
      "execution_count": 5,
      "outputs": [
        {
          "output_type": "execute_result",
          "data": {
            "text/plain": [
              "debt_collection        4322\n",
              "mortgages_and_loans    3528\n",
              "credit_card            2882\n",
              "retail_banking         2563\n",
              "Name: product, dtype: int64"
            ]
          },
          "metadata": {},
          "execution_count": 5
        }
      ]
    },
    {
      "cell_type": "code",
      "source": [
        "df.isnull().any()"
      ],
      "metadata": {
        "colab": {
          "base_uri": "https://localhost:8080/"
        },
        "id": "iBlzhpHfUGq5",
        "outputId": "1fd8b2fc-6644-4bf1-b361-5c3bb7dd8842"
      },
      "execution_count": 6,
      "outputs": [
        {
          "output_type": "execute_result",
          "data": {
            "text/plain": [
              "product      False\n",
              "narrative     True\n",
              "dtype: bool"
            ]
          },
          "metadata": {},
          "execution_count": 6
        }
      ]
    },
    {
      "cell_type": "code",
      "source": [
        "print(df.isnull().sum())"
      ],
      "metadata": {
        "colab": {
          "base_uri": "https://localhost:8080/"
        },
        "id": "Z1jLNuUGn4-T",
        "outputId": "c83e6c05-311c-410d-c2ce-4316741be5f8"
      },
      "execution_count": 7,
      "outputs": [
        {
          "output_type": "stream",
          "name": "stdout",
          "text": [
            "product       0\n",
            "narrative    21\n",
            "dtype: int64\n"
          ]
        }
      ]
    },
    {
      "cell_type": "code",
      "source": [
        "df.dropna(inplace=True)"
      ],
      "metadata": {
        "id": "ARaTwL3hpE9h"
      },
      "execution_count": 8,
      "outputs": []
    },
    {
      "cell_type": "code",
      "source": [
        "df.isnull().sum()"
      ],
      "metadata": {
        "colab": {
          "base_uri": "https://localhost:8080/"
        },
        "id": "tYePWkCgqssI",
        "outputId": "44885905-7b1d-432e-b119-f771fc061601"
      },
      "execution_count": 9,
      "outputs": [
        {
          "output_type": "execute_result",
          "data": {
            "text/plain": [
              "product      0\n",
              "narrative    0\n",
              "dtype: int64"
            ]
          },
          "metadata": {},
          "execution_count": 9
        }
      ]
    },
    {
      "cell_type": "code",
      "source": [
        "df['narrative'] = df['narrative'].str.replace('[^\\w\\s]','')           \n",
        "df['narrative'] = df['narrative'].str.replace('\\d+', '')              \n",
        "df['narrative'] = df['narrative'].str.replace('@', '')                \n",
        "df['narrative'] = df['narrative'].str.replace('#', '')                \n",
        "df['narrative'] = df['narrative'].str.replace('\\s+', ' ')             \n",
        "df['narrative'] = df['narrative'].str.lower()                        \n",
        "df"
      ],
      "metadata": {
        "colab": {
          "base_uri": "https://localhost:8080/",
          "height": 548
        },
        "id": "pJDnRQkHQj4D",
        "outputId": "432d2786-4e0d-4c8d-d8d8-59e43a4e98f8"
      },
      "execution_count": 10,
      "outputs": [
        {
          "output_type": "stream",
          "name": "stderr",
          "text": [
            "/usr/local/lib/python3.7/dist-packages/ipykernel_launcher.py:1: FutureWarning: The default value of regex will change from True to False in a future version.\n",
            "  \"\"\"Entry point for launching an IPython kernel.\n",
            "/usr/local/lib/python3.7/dist-packages/ipykernel_launcher.py:2: FutureWarning: The default value of regex will change from True to False in a future version.\n",
            "  \n",
            "/usr/local/lib/python3.7/dist-packages/ipykernel_launcher.py:5: FutureWarning: The default value of regex will change from True to False in a future version.\n",
            "  \"\"\"\n"
          ]
        },
        {
          "output_type": "execute_result",
          "data": {
            "text/plain": [
              "                   product                                          narrative\n",
              "0      mortgages_and_loans  applied mortgage refinance understand process ...\n",
              "1          debt_collection  received letter demanding payment medical debt...\n",
              "2          debt_collection  car accident fault year old financial help use...\n",
              "3          debt_collection  bad financial shape stemming bad employment si...\n",
              "4          debt_collection  reliant capital solution repeatly call spouse ...\n",
              "...                    ...                                                ...\n",
              "13290          credit_card  reliacard deactivated card suspect fraud said ...\n",
              "13291          credit_card  recieved total five fraudulent transaction app...\n",
              "13292       retail_banking  bank america sent notice transferred account e...\n",
              "13293      debt_collection  minor year old received care local ohio region...\n",
              "13294       retail_banking  paypal account year got restricted preventing ...\n",
              "\n",
              "[13274 rows x 2 columns]"
            ],
            "text/html": [
              "\n",
              "  <div id=\"df-5098963c-5223-45cb-b3b7-e275e79aa93a\">\n",
              "    <div class=\"colab-df-container\">\n",
              "      <div>\n",
              "<style scoped>\n",
              "    .dataframe tbody tr th:only-of-type {\n",
              "        vertical-align: middle;\n",
              "    }\n",
              "\n",
              "    .dataframe tbody tr th {\n",
              "        vertical-align: top;\n",
              "    }\n",
              "\n",
              "    .dataframe thead th {\n",
              "        text-align: right;\n",
              "    }\n",
              "</style>\n",
              "<table border=\"1\" class=\"dataframe\">\n",
              "  <thead>\n",
              "    <tr style=\"text-align: right;\">\n",
              "      <th></th>\n",
              "      <th>product</th>\n",
              "      <th>narrative</th>\n",
              "    </tr>\n",
              "  </thead>\n",
              "  <tbody>\n",
              "    <tr>\n",
              "      <th>0</th>\n",
              "      <td>mortgages_and_loans</td>\n",
              "      <td>applied mortgage refinance understand process ...</td>\n",
              "    </tr>\n",
              "    <tr>\n",
              "      <th>1</th>\n",
              "      <td>debt_collection</td>\n",
              "      <td>received letter demanding payment medical debt...</td>\n",
              "    </tr>\n",
              "    <tr>\n",
              "      <th>2</th>\n",
              "      <td>debt_collection</td>\n",
              "      <td>car accident fault year old financial help use...</td>\n",
              "    </tr>\n",
              "    <tr>\n",
              "      <th>3</th>\n",
              "      <td>debt_collection</td>\n",
              "      <td>bad financial shape stemming bad employment si...</td>\n",
              "    </tr>\n",
              "    <tr>\n",
              "      <th>4</th>\n",
              "      <td>debt_collection</td>\n",
              "      <td>reliant capital solution repeatly call spouse ...</td>\n",
              "    </tr>\n",
              "    <tr>\n",
              "      <th>...</th>\n",
              "      <td>...</td>\n",
              "      <td>...</td>\n",
              "    </tr>\n",
              "    <tr>\n",
              "      <th>13290</th>\n",
              "      <td>credit_card</td>\n",
              "      <td>reliacard deactivated card suspect fraud said ...</td>\n",
              "    </tr>\n",
              "    <tr>\n",
              "      <th>13291</th>\n",
              "      <td>credit_card</td>\n",
              "      <td>recieved total five fraudulent transaction app...</td>\n",
              "    </tr>\n",
              "    <tr>\n",
              "      <th>13292</th>\n",
              "      <td>retail_banking</td>\n",
              "      <td>bank america sent notice transferred account e...</td>\n",
              "    </tr>\n",
              "    <tr>\n",
              "      <th>13293</th>\n",
              "      <td>debt_collection</td>\n",
              "      <td>minor year old received care local ohio region...</td>\n",
              "    </tr>\n",
              "    <tr>\n",
              "      <th>13294</th>\n",
              "      <td>retail_banking</td>\n",
              "      <td>paypal account year got restricted preventing ...</td>\n",
              "    </tr>\n",
              "  </tbody>\n",
              "</table>\n",
              "<p>13274 rows × 2 columns</p>\n",
              "</div>\n",
              "      <button class=\"colab-df-convert\" onclick=\"convertToInteractive('df-5098963c-5223-45cb-b3b7-e275e79aa93a')\"\n",
              "              title=\"Convert this dataframe to an interactive table.\"\n",
              "              style=\"display:none;\">\n",
              "        \n",
              "  <svg xmlns=\"http://www.w3.org/2000/svg\" height=\"24px\"viewBox=\"0 0 24 24\"\n",
              "       width=\"24px\">\n",
              "    <path d=\"M0 0h24v24H0V0z\" fill=\"none\"/>\n",
              "    <path d=\"M18.56 5.44l.94 2.06.94-2.06 2.06-.94-2.06-.94-.94-2.06-.94 2.06-2.06.94zm-11 1L8.5 8.5l.94-2.06 2.06-.94-2.06-.94L8.5 2.5l-.94 2.06-2.06.94zm10 10l.94 2.06.94-2.06 2.06-.94-2.06-.94-.94-2.06-.94 2.06-2.06.94z\"/><path d=\"M17.41 7.96l-1.37-1.37c-.4-.4-.92-.59-1.43-.59-.52 0-1.04.2-1.43.59L10.3 9.45l-7.72 7.72c-.78.78-.78 2.05 0 2.83L4 21.41c.39.39.9.59 1.41.59.51 0 1.02-.2 1.41-.59l7.78-7.78 2.81-2.81c.8-.78.8-2.07 0-2.86zM5.41 20L4 18.59l7.72-7.72 1.47 1.35L5.41 20z\"/>\n",
              "  </svg>\n",
              "      </button>\n",
              "      \n",
              "  <style>\n",
              "    .colab-df-container {\n",
              "      display:flex;\n",
              "      flex-wrap:wrap;\n",
              "      gap: 12px;\n",
              "    }\n",
              "\n",
              "    .colab-df-convert {\n",
              "      background-color: #E8F0FE;\n",
              "      border: none;\n",
              "      border-radius: 50%;\n",
              "      cursor: pointer;\n",
              "      display: none;\n",
              "      fill: #1967D2;\n",
              "      height: 32px;\n",
              "      padding: 0 0 0 0;\n",
              "      width: 32px;\n",
              "    }\n",
              "\n",
              "    .colab-df-convert:hover {\n",
              "      background-color: #E2EBFA;\n",
              "      box-shadow: 0px 1px 2px rgba(60, 64, 67, 0.3), 0px 1px 3px 1px rgba(60, 64, 67, 0.15);\n",
              "      fill: #174EA6;\n",
              "    }\n",
              "\n",
              "    [theme=dark] .colab-df-convert {\n",
              "      background-color: #3B4455;\n",
              "      fill: #D2E3FC;\n",
              "    }\n",
              "\n",
              "    [theme=dark] .colab-df-convert:hover {\n",
              "      background-color: #434B5C;\n",
              "      box-shadow: 0px 1px 3px 1px rgba(0, 0, 0, 0.15);\n",
              "      filter: drop-shadow(0px 1px 2px rgba(0, 0, 0, 0.3));\n",
              "      fill: #FFFFFF;\n",
              "    }\n",
              "  </style>\n",
              "\n",
              "      <script>\n",
              "        const buttonEl =\n",
              "          document.querySelector('#df-5098963c-5223-45cb-b3b7-e275e79aa93a button.colab-df-convert');\n",
              "        buttonEl.style.display =\n",
              "          google.colab.kernel.accessAllowed ? 'block' : 'none';\n",
              "\n",
              "        async function convertToInteractive(key) {\n",
              "          const element = document.querySelector('#df-5098963c-5223-45cb-b3b7-e275e79aa93a');\n",
              "          const dataTable =\n",
              "            await google.colab.kernel.invokeFunction('convertToInteractive',\n",
              "                                                     [key], {});\n",
              "          if (!dataTable) return;\n",
              "\n",
              "          const docLinkHtml = 'Like what you see? Visit the ' +\n",
              "            '<a target=\"_blank\" href=https://colab.research.google.com/notebooks/data_table.ipynb>data table notebook</a>'\n",
              "            + ' to learn more about interactive tables.';\n",
              "          element.innerHTML = '';\n",
              "          dataTable['output_type'] = 'display_data';\n",
              "          await google.colab.output.renderOutput(dataTable, element);\n",
              "          const docLink = document.createElement('div');\n",
              "          docLink.innerHTML = docLinkHtml;\n",
              "          element.appendChild(docLink);\n",
              "        }\n",
              "      </script>\n",
              "    </div>\n",
              "  </div>\n",
              "  "
            ]
          },
          "metadata": {},
          "execution_count": 10
        }
      ]
    },
    {
      "cell_type": "code",
      "source": [
        "from nltk.corpus import stopwords\n",
        "stop = set(stopwords.words('english'))\n",
        "print(stop)"
      ],
      "metadata": {
        "colab": {
          "base_uri": "https://localhost:8080/"
        },
        "id": "DKSfcTSpRsOZ",
        "outputId": "4316f4bc-a377-48f5-bac1-578596a92e94"
      },
      "execution_count": 11,
      "outputs": [
        {
          "output_type": "stream",
          "name": "stdout",
          "text": [
            "{'hers', 'their', 'most', \"aren't\", 'just', 'be', 'me', 'for', 'where', 'each', 'mightn', 'its', 'while', 'ours', 'down', 'such', 'doesn', 't', 'if', 'in', 'shan', 'again', 'who', 'whom', \"haven't\", \"doesn't\", 'here', 'his', 'those', 'other', 'at', \"it's\", \"don't\", 'through', 'an', 'a', \"wouldn't\", 'her', 'out', 'yourself', 'on', 'shouldn', 'more', 'y', 'ourselves', 's', 'been', 'do', 'it', 'did', 'very', 'haven', 'itself', 'have', 'was', 'our', 'has', 'am', \"didn't\", 'couldn', \"you've\", 'wouldn', 'my', 'which', 'mustn', 'we', 'themselves', 'yourselves', 'than', 'll', 'aren', 'the', 'after', 'there', 'nor', 'own', \"hasn't\", 'what', 'them', 'are', \"shouldn't\", 'further', 'yours', 'by', \"needn't\", \"that'll\", 'isn', 'i', 'up', 'no', \"should've\", 'm', 'any', 'then', 'all', \"you'd\", 'too', 'can', 'you', 'will', 'so', 'd', 'to', 'few', 'same', 'does', 'him', 'how', 'o', 'ma', 'from', 'under', 'against', 'about', 're', 'herself', 'being', 'she', 'off', 'hadn', \"wasn't\", 'he', 'hasn', 'now', 'ain', \"hadn't\", 'himself', 'below', 'had', 'won', 'is', 'needn', 'into', 'doing', 'wasn', 'once', 'above', \"couldn't\", 'myself', 'these', 'having', 'but', 'with', 'both', 'theirs', 'before', 'only', \"mightn't\", 'between', 'this', 'as', 'because', \"she's\", 'why', \"won't\", 'weren', 'until', 've', 'some', \"you'll\", 'didn', \"you're\", 'or', 'during', 'when', \"mustn't\", 'and', \"isn't\", 'were', 'that', 'over', 'should', \"weren't\", 'your', 'not', 'they', 'of', 'don', \"shan't\"}\n"
          ]
        }
      ]
    },
    {
      "cell_type": "code",
      "source": [
        "df['cnarrative'] = df['narrative'].apply(lambda x: \" \".join(x for x in x.split() if x not in stop))\n",
        "df"
      ],
      "metadata": {
        "colab": {
          "base_uri": "https://localhost:8080/",
          "height": 424
        },
        "id": "zvzfoX7uqLMw",
        "outputId": "7f3b7e85-48bc-4b0f-b24a-54214a924405"
      },
      "execution_count": 12,
      "outputs": [
        {
          "output_type": "execute_result",
          "data": {
            "text/plain": [
              "                   product                                          narrative  \\\n",
              "0      mortgages_and_loans  applied mortgage refinance understand process ...   \n",
              "1          debt_collection  received letter demanding payment medical debt...   \n",
              "2          debt_collection  car accident fault year old financial help use...   \n",
              "3          debt_collection  bad financial shape stemming bad employment si...   \n",
              "4          debt_collection  reliant capital solution repeatly call spouse ...   \n",
              "...                    ...                                                ...   \n",
              "13290          credit_card  reliacard deactivated card suspect fraud said ...   \n",
              "13291          credit_card  recieved total five fraudulent transaction app...   \n",
              "13292       retail_banking  bank america sent notice transferred account e...   \n",
              "13293      debt_collection  minor year old received care local ohio region...   \n",
              "13294       retail_banking  paypal account year got restricted preventing ...   \n",
              "\n",
              "                                              cnarrative  \n",
              "0      applied mortgage refinance understand process ...  \n",
              "1      received letter demanding payment medical debt...  \n",
              "2      car accident fault year old financial help use...  \n",
              "3      bad financial shape stemming bad employment si...  \n",
              "4      reliant capital solution repeatly call spouse ...  \n",
              "...                                                  ...  \n",
              "13290  reliacard deactivated card suspect fraud said ...  \n",
              "13291  recieved total five fraudulent transaction app...  \n",
              "13292  bank america sent notice transferred account e...  \n",
              "13293  minor year old received care local ohio region...  \n",
              "13294  paypal account year got restricted preventing ...  \n",
              "\n",
              "[13274 rows x 3 columns]"
            ],
            "text/html": [
              "\n",
              "  <div id=\"df-5cadb390-59e1-4818-b4c7-17d26cb7db2a\">\n",
              "    <div class=\"colab-df-container\">\n",
              "      <div>\n",
              "<style scoped>\n",
              "    .dataframe tbody tr th:only-of-type {\n",
              "        vertical-align: middle;\n",
              "    }\n",
              "\n",
              "    .dataframe tbody tr th {\n",
              "        vertical-align: top;\n",
              "    }\n",
              "\n",
              "    .dataframe thead th {\n",
              "        text-align: right;\n",
              "    }\n",
              "</style>\n",
              "<table border=\"1\" class=\"dataframe\">\n",
              "  <thead>\n",
              "    <tr style=\"text-align: right;\">\n",
              "      <th></th>\n",
              "      <th>product</th>\n",
              "      <th>narrative</th>\n",
              "      <th>cnarrative</th>\n",
              "    </tr>\n",
              "  </thead>\n",
              "  <tbody>\n",
              "    <tr>\n",
              "      <th>0</th>\n",
              "      <td>mortgages_and_loans</td>\n",
              "      <td>applied mortgage refinance understand process ...</td>\n",
              "      <td>applied mortgage refinance understand process ...</td>\n",
              "    </tr>\n",
              "    <tr>\n",
              "      <th>1</th>\n",
              "      <td>debt_collection</td>\n",
              "      <td>received letter demanding payment medical debt...</td>\n",
              "      <td>received letter demanding payment medical debt...</td>\n",
              "    </tr>\n",
              "    <tr>\n",
              "      <th>2</th>\n",
              "      <td>debt_collection</td>\n",
              "      <td>car accident fault year old financial help use...</td>\n",
              "      <td>car accident fault year old financial help use...</td>\n",
              "    </tr>\n",
              "    <tr>\n",
              "      <th>3</th>\n",
              "      <td>debt_collection</td>\n",
              "      <td>bad financial shape stemming bad employment si...</td>\n",
              "      <td>bad financial shape stemming bad employment si...</td>\n",
              "    </tr>\n",
              "    <tr>\n",
              "      <th>4</th>\n",
              "      <td>debt_collection</td>\n",
              "      <td>reliant capital solution repeatly call spouse ...</td>\n",
              "      <td>reliant capital solution repeatly call spouse ...</td>\n",
              "    </tr>\n",
              "    <tr>\n",
              "      <th>...</th>\n",
              "      <td>...</td>\n",
              "      <td>...</td>\n",
              "      <td>...</td>\n",
              "    </tr>\n",
              "    <tr>\n",
              "      <th>13290</th>\n",
              "      <td>credit_card</td>\n",
              "      <td>reliacard deactivated card suspect fraud said ...</td>\n",
              "      <td>reliacard deactivated card suspect fraud said ...</td>\n",
              "    </tr>\n",
              "    <tr>\n",
              "      <th>13291</th>\n",
              "      <td>credit_card</td>\n",
              "      <td>recieved total five fraudulent transaction app...</td>\n",
              "      <td>recieved total five fraudulent transaction app...</td>\n",
              "    </tr>\n",
              "    <tr>\n",
              "      <th>13292</th>\n",
              "      <td>retail_banking</td>\n",
              "      <td>bank america sent notice transferred account e...</td>\n",
              "      <td>bank america sent notice transferred account e...</td>\n",
              "    </tr>\n",
              "    <tr>\n",
              "      <th>13293</th>\n",
              "      <td>debt_collection</td>\n",
              "      <td>minor year old received care local ohio region...</td>\n",
              "      <td>minor year old received care local ohio region...</td>\n",
              "    </tr>\n",
              "    <tr>\n",
              "      <th>13294</th>\n",
              "      <td>retail_banking</td>\n",
              "      <td>paypal account year got restricted preventing ...</td>\n",
              "      <td>paypal account year got restricted preventing ...</td>\n",
              "    </tr>\n",
              "  </tbody>\n",
              "</table>\n",
              "<p>13274 rows × 3 columns</p>\n",
              "</div>\n",
              "      <button class=\"colab-df-convert\" onclick=\"convertToInteractive('df-5cadb390-59e1-4818-b4c7-17d26cb7db2a')\"\n",
              "              title=\"Convert this dataframe to an interactive table.\"\n",
              "              style=\"display:none;\">\n",
              "        \n",
              "  <svg xmlns=\"http://www.w3.org/2000/svg\" height=\"24px\"viewBox=\"0 0 24 24\"\n",
              "       width=\"24px\">\n",
              "    <path d=\"M0 0h24v24H0V0z\" fill=\"none\"/>\n",
              "    <path d=\"M18.56 5.44l.94 2.06.94-2.06 2.06-.94-2.06-.94-.94-2.06-.94 2.06-2.06.94zm-11 1L8.5 8.5l.94-2.06 2.06-.94-2.06-.94L8.5 2.5l-.94 2.06-2.06.94zm10 10l.94 2.06.94-2.06 2.06-.94-2.06-.94-.94-2.06-.94 2.06-2.06.94z\"/><path d=\"M17.41 7.96l-1.37-1.37c-.4-.4-.92-.59-1.43-.59-.52 0-1.04.2-1.43.59L10.3 9.45l-7.72 7.72c-.78.78-.78 2.05 0 2.83L4 21.41c.39.39.9.59 1.41.59.51 0 1.02-.2 1.41-.59l7.78-7.78 2.81-2.81c.8-.78.8-2.07 0-2.86zM5.41 20L4 18.59l7.72-7.72 1.47 1.35L5.41 20z\"/>\n",
              "  </svg>\n",
              "      </button>\n",
              "      \n",
              "  <style>\n",
              "    .colab-df-container {\n",
              "      display:flex;\n",
              "      flex-wrap:wrap;\n",
              "      gap: 12px;\n",
              "    }\n",
              "\n",
              "    .colab-df-convert {\n",
              "      background-color: #E8F0FE;\n",
              "      border: none;\n",
              "      border-radius: 50%;\n",
              "      cursor: pointer;\n",
              "      display: none;\n",
              "      fill: #1967D2;\n",
              "      height: 32px;\n",
              "      padding: 0 0 0 0;\n",
              "      width: 32px;\n",
              "    }\n",
              "\n",
              "    .colab-df-convert:hover {\n",
              "      background-color: #E2EBFA;\n",
              "      box-shadow: 0px 1px 2px rgba(60, 64, 67, 0.3), 0px 1px 3px 1px rgba(60, 64, 67, 0.15);\n",
              "      fill: #174EA6;\n",
              "    }\n",
              "\n",
              "    [theme=dark] .colab-df-convert {\n",
              "      background-color: #3B4455;\n",
              "      fill: #D2E3FC;\n",
              "    }\n",
              "\n",
              "    [theme=dark] .colab-df-convert:hover {\n",
              "      background-color: #434B5C;\n",
              "      box-shadow: 0px 1px 3px 1px rgba(0, 0, 0, 0.15);\n",
              "      filter: drop-shadow(0px 1px 2px rgba(0, 0, 0, 0.3));\n",
              "      fill: #FFFFFF;\n",
              "    }\n",
              "  </style>\n",
              "\n",
              "      <script>\n",
              "        const buttonEl =\n",
              "          document.querySelector('#df-5cadb390-59e1-4818-b4c7-17d26cb7db2a button.colab-df-convert');\n",
              "        buttonEl.style.display =\n",
              "          google.colab.kernel.accessAllowed ? 'block' : 'none';\n",
              "\n",
              "        async function convertToInteractive(key) {\n",
              "          const element = document.querySelector('#df-5cadb390-59e1-4818-b4c7-17d26cb7db2a');\n",
              "          const dataTable =\n",
              "            await google.colab.kernel.invokeFunction('convertToInteractive',\n",
              "                                                     [key], {});\n",
              "          if (!dataTable) return;\n",
              "\n",
              "          const docLinkHtml = 'Like what you see? Visit the ' +\n",
              "            '<a target=\"_blank\" href=https://colab.research.google.com/notebooks/data_table.ipynb>data table notebook</a>'\n",
              "            + ' to learn more about interactive tables.';\n",
              "          element.innerHTML = '';\n",
              "          dataTable['output_type'] = 'display_data';\n",
              "          await google.colab.output.renderOutput(dataTable, element);\n",
              "          const docLink = document.createElement('div');\n",
              "          docLink.innerHTML = docLinkHtml;\n",
              "          element.appendChild(docLink);\n",
              "        }\n",
              "      </script>\n",
              "    </div>\n",
              "  </div>\n",
              "  "
            ]
          },
          "metadata": {},
          "execution_count": 12
        }
      ]
    },
    {
      "cell_type": "code",
      "source": [
        "df['cnarrative'] = df['cnarrative'].apply(lambda x: x.split())        # tokenization each word as a token\n",
        "df"
      ],
      "metadata": {
        "colab": {
          "base_uri": "https://localhost:8080/",
          "height": 424
        },
        "id": "7A9mPHwrsfgm",
        "outputId": "0a45cfeb-c3bd-4779-8817-e2df0c24c6f2"
      },
      "execution_count": 13,
      "outputs": [
        {
          "output_type": "execute_result",
          "data": {
            "text/plain": [
              "                   product                                          narrative  \\\n",
              "0      mortgages_and_loans  applied mortgage refinance understand process ...   \n",
              "1          debt_collection  received letter demanding payment medical debt...   \n",
              "2          debt_collection  car accident fault year old financial help use...   \n",
              "3          debt_collection  bad financial shape stemming bad employment si...   \n",
              "4          debt_collection  reliant capital solution repeatly call spouse ...   \n",
              "...                    ...                                                ...   \n",
              "13290          credit_card  reliacard deactivated card suspect fraud said ...   \n",
              "13291          credit_card  recieved total five fraudulent transaction app...   \n",
              "13292       retail_banking  bank america sent notice transferred account e...   \n",
              "13293      debt_collection  minor year old received care local ohio region...   \n",
              "13294       retail_banking  paypal account year got restricted preventing ...   \n",
              "\n",
              "                                              cnarrative  \n",
              "0      [applied, mortgage, refinance, understand, pro...  \n",
              "1      [received, letter, demanding, payment, medical...  \n",
              "2      [car, accident, fault, year, old, financial, h...  \n",
              "3      [bad, financial, shape, stemming, bad, employm...  \n",
              "4      [reliant, capital, solution, repeatly, call, s...  \n",
              "...                                                  ...  \n",
              "13290  [reliacard, deactivated, card, suspect, fraud,...  \n",
              "13291  [recieved, total, five, fraudulent, transactio...  \n",
              "13292  [bank, america, sent, notice, transferred, acc...  \n",
              "13293  [minor, year, old, received, care, local, ohio...  \n",
              "13294  [paypal, account, year, got, restricted, preve...  \n",
              "\n",
              "[13274 rows x 3 columns]"
            ],
            "text/html": [
              "\n",
              "  <div id=\"df-ef892761-c8f6-44f7-aa2c-23e525811787\">\n",
              "    <div class=\"colab-df-container\">\n",
              "      <div>\n",
              "<style scoped>\n",
              "    .dataframe tbody tr th:only-of-type {\n",
              "        vertical-align: middle;\n",
              "    }\n",
              "\n",
              "    .dataframe tbody tr th {\n",
              "        vertical-align: top;\n",
              "    }\n",
              "\n",
              "    .dataframe thead th {\n",
              "        text-align: right;\n",
              "    }\n",
              "</style>\n",
              "<table border=\"1\" class=\"dataframe\">\n",
              "  <thead>\n",
              "    <tr style=\"text-align: right;\">\n",
              "      <th></th>\n",
              "      <th>product</th>\n",
              "      <th>narrative</th>\n",
              "      <th>cnarrative</th>\n",
              "    </tr>\n",
              "  </thead>\n",
              "  <tbody>\n",
              "    <tr>\n",
              "      <th>0</th>\n",
              "      <td>mortgages_and_loans</td>\n",
              "      <td>applied mortgage refinance understand process ...</td>\n",
              "      <td>[applied, mortgage, refinance, understand, pro...</td>\n",
              "    </tr>\n",
              "    <tr>\n",
              "      <th>1</th>\n",
              "      <td>debt_collection</td>\n",
              "      <td>received letter demanding payment medical debt...</td>\n",
              "      <td>[received, letter, demanding, payment, medical...</td>\n",
              "    </tr>\n",
              "    <tr>\n",
              "      <th>2</th>\n",
              "      <td>debt_collection</td>\n",
              "      <td>car accident fault year old financial help use...</td>\n",
              "      <td>[car, accident, fault, year, old, financial, h...</td>\n",
              "    </tr>\n",
              "    <tr>\n",
              "      <th>3</th>\n",
              "      <td>debt_collection</td>\n",
              "      <td>bad financial shape stemming bad employment si...</td>\n",
              "      <td>[bad, financial, shape, stemming, bad, employm...</td>\n",
              "    </tr>\n",
              "    <tr>\n",
              "      <th>4</th>\n",
              "      <td>debt_collection</td>\n",
              "      <td>reliant capital solution repeatly call spouse ...</td>\n",
              "      <td>[reliant, capital, solution, repeatly, call, s...</td>\n",
              "    </tr>\n",
              "    <tr>\n",
              "      <th>...</th>\n",
              "      <td>...</td>\n",
              "      <td>...</td>\n",
              "      <td>...</td>\n",
              "    </tr>\n",
              "    <tr>\n",
              "      <th>13290</th>\n",
              "      <td>credit_card</td>\n",
              "      <td>reliacard deactivated card suspect fraud said ...</td>\n",
              "      <td>[reliacard, deactivated, card, suspect, fraud,...</td>\n",
              "    </tr>\n",
              "    <tr>\n",
              "      <th>13291</th>\n",
              "      <td>credit_card</td>\n",
              "      <td>recieved total five fraudulent transaction app...</td>\n",
              "      <td>[recieved, total, five, fraudulent, transactio...</td>\n",
              "    </tr>\n",
              "    <tr>\n",
              "      <th>13292</th>\n",
              "      <td>retail_banking</td>\n",
              "      <td>bank america sent notice transferred account e...</td>\n",
              "      <td>[bank, america, sent, notice, transferred, acc...</td>\n",
              "    </tr>\n",
              "    <tr>\n",
              "      <th>13293</th>\n",
              "      <td>debt_collection</td>\n",
              "      <td>minor year old received care local ohio region...</td>\n",
              "      <td>[minor, year, old, received, care, local, ohio...</td>\n",
              "    </tr>\n",
              "    <tr>\n",
              "      <th>13294</th>\n",
              "      <td>retail_banking</td>\n",
              "      <td>paypal account year got restricted preventing ...</td>\n",
              "      <td>[paypal, account, year, got, restricted, preve...</td>\n",
              "    </tr>\n",
              "  </tbody>\n",
              "</table>\n",
              "<p>13274 rows × 3 columns</p>\n",
              "</div>\n",
              "      <button class=\"colab-df-convert\" onclick=\"convertToInteractive('df-ef892761-c8f6-44f7-aa2c-23e525811787')\"\n",
              "              title=\"Convert this dataframe to an interactive table.\"\n",
              "              style=\"display:none;\">\n",
              "        \n",
              "  <svg xmlns=\"http://www.w3.org/2000/svg\" height=\"24px\"viewBox=\"0 0 24 24\"\n",
              "       width=\"24px\">\n",
              "    <path d=\"M0 0h24v24H0V0z\" fill=\"none\"/>\n",
              "    <path d=\"M18.56 5.44l.94 2.06.94-2.06 2.06-.94-2.06-.94-.94-2.06-.94 2.06-2.06.94zm-11 1L8.5 8.5l.94-2.06 2.06-.94-2.06-.94L8.5 2.5l-.94 2.06-2.06.94zm10 10l.94 2.06.94-2.06 2.06-.94-2.06-.94-.94-2.06-.94 2.06-2.06.94z\"/><path d=\"M17.41 7.96l-1.37-1.37c-.4-.4-.92-.59-1.43-.59-.52 0-1.04.2-1.43.59L10.3 9.45l-7.72 7.72c-.78.78-.78 2.05 0 2.83L4 21.41c.39.39.9.59 1.41.59.51 0 1.02-.2 1.41-.59l7.78-7.78 2.81-2.81c.8-.78.8-2.07 0-2.86zM5.41 20L4 18.59l7.72-7.72 1.47 1.35L5.41 20z\"/>\n",
              "  </svg>\n",
              "      </button>\n",
              "      \n",
              "  <style>\n",
              "    .colab-df-container {\n",
              "      display:flex;\n",
              "      flex-wrap:wrap;\n",
              "      gap: 12px;\n",
              "    }\n",
              "\n",
              "    .colab-df-convert {\n",
              "      background-color: #E8F0FE;\n",
              "      border: none;\n",
              "      border-radius: 50%;\n",
              "      cursor: pointer;\n",
              "      display: none;\n",
              "      fill: #1967D2;\n",
              "      height: 32px;\n",
              "      padding: 0 0 0 0;\n",
              "      width: 32px;\n",
              "    }\n",
              "\n",
              "    .colab-df-convert:hover {\n",
              "      background-color: #E2EBFA;\n",
              "      box-shadow: 0px 1px 2px rgba(60, 64, 67, 0.3), 0px 1px 3px 1px rgba(60, 64, 67, 0.15);\n",
              "      fill: #174EA6;\n",
              "    }\n",
              "\n",
              "    [theme=dark] .colab-df-convert {\n",
              "      background-color: #3B4455;\n",
              "      fill: #D2E3FC;\n",
              "    }\n",
              "\n",
              "    [theme=dark] .colab-df-convert:hover {\n",
              "      background-color: #434B5C;\n",
              "      box-shadow: 0px 1px 3px 1px rgba(0, 0, 0, 0.15);\n",
              "      filter: drop-shadow(0px 1px 2px rgba(0, 0, 0, 0.3));\n",
              "      fill: #FFFFFF;\n",
              "    }\n",
              "  </style>\n",
              "\n",
              "      <script>\n",
              "        const buttonEl =\n",
              "          document.querySelector('#df-ef892761-c8f6-44f7-aa2c-23e525811787 button.colab-df-convert');\n",
              "        buttonEl.style.display =\n",
              "          google.colab.kernel.accessAllowed ? 'block' : 'none';\n",
              "\n",
              "        async function convertToInteractive(key) {\n",
              "          const element = document.querySelector('#df-ef892761-c8f6-44f7-aa2c-23e525811787');\n",
              "          const dataTable =\n",
              "            await google.colab.kernel.invokeFunction('convertToInteractive',\n",
              "                                                     [key], {});\n",
              "          if (!dataTable) return;\n",
              "\n",
              "          const docLinkHtml = 'Like what you see? Visit the ' +\n",
              "            '<a target=\"_blank\" href=https://colab.research.google.com/notebooks/data_table.ipynb>data table notebook</a>'\n",
              "            + ' to learn more about interactive tables.';\n",
              "          element.innerHTML = '';\n",
              "          dataTable['output_type'] = 'display_data';\n",
              "          await google.colab.output.renderOutput(dataTable, element);\n",
              "          const docLink = document.createElement('div');\n",
              "          docLink.innerHTML = docLinkHtml;\n",
              "          element.appendChild(docLink);\n",
              "        }\n",
              "      </script>\n",
              "    </div>\n",
              "  </div>\n",
              "  "
            ]
          },
          "metadata": {},
          "execution_count": 13
        }
      ]
    },
    {
      "cell_type": "code",
      "source": [
        "import itertools\n",
        "vocab = list(itertools.chain.from_iterable(df['cnarrative']))\n",
        "vocab = list(set(vocab))\n",
        "print(len(vocab))"
      ],
      "metadata": {
        "colab": {
          "base_uri": "https://localhost:8080/"
        },
        "id": "fP7Pqj-Js1bF",
        "outputId": "c3a97cb3-f600-41be-e333-645ff8092178"
      },
      "execution_count": 14,
      "outputs": [
        {
          "output_type": "stream",
          "name": "stdout",
          "text": [
            "18750\n"
          ]
        }
      ]
    },
    {
      "cell_type": "code",
      "source": [
        "from sklearn.feature_extraction.text import TfidfVectorizer\n",
        "tfidf = TfidfVectorizer()\n",
        "tfidf.fit(df['narrative'])\n",
        "tfidf = tfidf.transform(df['narrative'])\n",
        "\n",
        "print(len(tfidf.toarray())) \n",
        "print(tfidf.shape)"
      ],
      "metadata": {
        "colab": {
          "base_uri": "https://localhost:8080/"
        },
        "id": "t4q1qPPTs5lP",
        "outputId": "ddb8cf5e-9870-4b5a-f9d6-93cc2fc61b50"
      },
      "execution_count": 15,
      "outputs": [
        {
          "output_type": "stream",
          "name": "stdout",
          "text": [
            "13274\n",
            "(13274, 18750)\n"
          ]
        }
      ]
    },
    {
      "cell_type": "code",
      "source": [
        "from sklearn.model_selection import train_test_split\n",
        "from sklearn.metrics import accuracy_score, classification_report, confusion_matrix\n",
        "\n",
        "# split the data into train and test\n",
        "X_train, X_test, y_train, y_test = train_test_split(tfidf, df['narrative'], test_size=0.2, random_state=0)\n",
        "print(X_train.shape, X_test.shape, y_train.shape, y_test.shape)"
      ],
      "metadata": {
        "colab": {
          "base_uri": "https://localhost:8080/"
        },
        "id": "33flXONJtNMU",
        "outputId": "ecca2da0-8779-4f9b-f9d0-721b06528b7c"
      },
      "execution_count": 26,
      "outputs": [
        {
          "output_type": "stream",
          "name": "stdout",
          "text": [
            "(10619, 18750) (2655, 18750) (10619,) (2655,)\n"
          ]
        }
      ]
    },
    {
      "cell_type": "code",
      "source": [
        "from sklearn.ensemble import RandomForestClassifier\n",
        "rf = RandomForestClassifier(n_estimators=100, max_depth=2, random_state=0)\n",
        "rf.fit(X_train, y_train)\n",
        "\n",
        "rf_y_pred = rf.predict(X_test)\n",
        "print(\"Random Forest accuracy: \", accuracy_score(y_test, rf_y_pred))"
      ],
      "metadata": {
        "colab": {
          "base_uri": "https://localhost:8080/"
        },
        "id": "hrHevdmx0zXo",
        "outputId": "0b0ca174-d594-4f2a-9d31-17c8a18a08f5"
      },
      "execution_count": 27,
      "outputs": [
        {
          "output_type": "stream",
          "name": "stdout",
          "text": [
            "Random Forest accuracy:  0.014689265536723164\n"
          ]
        }
      ]
    }
  ]
}