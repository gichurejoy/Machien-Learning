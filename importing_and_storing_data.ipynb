{
  "nbformat": 4,
  "nbformat_minor": 0,
  "metadata": {
    "colab": {
      "name": "importing and storing data.ipynb",
      "provenance": [],
      "authorship_tag": "ABX9TyOBaIKVlyEcyrQSWrQeY+f6",
      "include_colab_link": true
    },
    "kernelspec": {
      "name": "python3",
      "display_name": "Python 3"
    },
    "language_info": {
      "name": "python"
    }
  },
  "cells": [
    {
      "cell_type": "markdown",
      "metadata": {
        "id": "view-in-github",
        "colab_type": "text"
      },
      "source": [
        "<a href=\"https://colab.research.google.com/github/gichurejoy/Machine-Learning/blob/main/importing_and_storing_data.ipynb\" target=\"_parent\"><img src=\"https://colab.research.google.com/assets/colab-badge.svg\" alt=\"Open In Colab\"/></a>"
      ]
    },
    {
      "cell_type": "code",
      "execution_count": 10,
      "metadata": {
        "colab": {
          "base_uri": "https://localhost:8080/"
        },
        "id": "qWGljcitYz0x",
        "outputId": "924306b1-3c56-4056-ae5d-0abe301dce23"
      },
      "outputs": [
        {
          "output_type": "stream",
          "name": "stdout",
          "text": [
            "         LOC  FUR          AMB PROX_SCH PROX_ROAD PROX_MALL WATER HK_SER  \\\n",
            "0      karen  yes       serene       no       yes       yes   yes    yes   \n",
            "1   madaraka  yes  semi_serene      yes       yes       yes    no     no   \n",
            "2      karen   no        noisy       no       yes       yes   yes    yes   \n",
            "3      karen  yes  semi_serene       no        no        no   yes    yes   \n",
            "4   buruburu   no  semi_serene       no       yes       yes   yes    yes   \n",
            "5    donholm   no       serene       no        no       yes    no    yes   \n",
            "6    langata   no   very_noisy      yes       yes        no    no    yes   \n",
            "7    langata  yes       serene       no        no       yes   yes     no   \n",
            "8    donholm  yes  semi_serene      yes        no        no   yes     no   \n",
            "9      karen  yes       serene       no        no        no    no     no   \n",
            "10  madaraka  yes        noisy      yes       yes        no   yes    yes   \n",
            "11   langata   no  semi_serene      yes        no       yes   yes    yes   \n",
            "12  buruburu  yes  semi_serene      yes       yes        no    no     no   \n",
            "13     karen  yes  semi_serene      yes       yes       yes   yes    yes   \n",
            "\n",
            "         SIZE      PRICE  \n",
            "0   32.502345  31.707006  \n",
            "1   53.426804  68.777596  \n",
            "2   61.530358  62.562382  \n",
            "3   47.475640  71.546632  \n",
            "4   59.813208  87.230925  \n",
            "5   55.142188  78.211518  \n",
            "6   52.211797  79.641973  \n",
            "7   39.299567  59.171489  \n",
            "8   48.105042  75.331242  \n",
            "9   52.550014  71.300880  \n",
            "10  45.419730  55.165677  \n",
            "11  54.351635  82.478847  \n",
            "12  44.164049  62.008923  \n",
            "13  58.168471  75.392870  \n"
          ]
        }
      ],
      "source": [
        "import numpy,pandas\n",
        "df=pandas.read_csv('nairobioffice.csv',delimiter=',')\n",
        "\n",
        "\n",
        "print(df)"
      ]
    }
  ]
}