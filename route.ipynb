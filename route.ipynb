{
  "nbformat": 4,
  "nbformat_minor": 0,
  "metadata": {
    "colab": {
      "provenance": [],
      "authorship_tag": "ABX9TyPW9p4kl3nwwi7EUIjji9zb",
      "include_colab_link": true
    },
    "kernelspec": {
      "name": "python3",
      "display_name": "Python 3"
    },
    "language_info": {
      "name": "python"
    }
  },
  "cells": [
    {
      "cell_type": "markdown",
      "metadata": {
        "id": "view-in-github",
        "colab_type": "text"
      },
      "source": [
        "<a href=\"https://colab.research.google.com/github/gichurejoy/Machine-Learning/blob/main/route.ipynb\" target=\"_parent\"><img src=\"https://colab.research.google.com/assets/colab-badge.svg\" alt=\"Open In Colab\"/></a>"
      ]
    },
    {
      "cell_type": "code",
      "execution_count": 1,
      "metadata": {
        "id": "3vRCl6dADmGL"
      },
      "outputs": [],
      "source": [
        "icsb = {\n",
        "    'Arad' :['Zerind','Timisoara','Sibiu'],\n",
        "     'Sibiu' :['Fagara','RV']\n",
        "}"
      ]
    },
    {
      "cell_type": "code",
      "source": [
        "import matplotlib.pyplot as plt\n",
        "import networkx as nx"
      ],
      "metadata": {
        "id": "2odZTMcfEtOt"
      },
      "execution_count": 2,
      "outputs": []
    },
    {
      "cell_type": "code",
      "source": [
        "ICS_Graph=nx.Graph()"
      ],
      "metadata": {
        "id": "gLyWBOoKE434"
      },
      "execution_count": 3,
      "outputs": []
    },
    {
      "cell_type": "code",
      "source": [
        "for node in icsb:\n",
        "  for ne in icsb[node]:\n",
        "    ICS_Graph.add_edge(node,ne,color='black')\n",
        "    \n",
        "     "
      ],
      "metadata": {
        "id": "TZ1bFgTaE-7L"
      },
      "execution_count": 4,
      "outputs": []
    },
    {
      "cell_type": "code",
      "source": [
        "x=nx.spring_layout(ICS_Graph)\n",
        "colors=[ICS_Graph[u][v]['color'] for u,v in ICS_Graph.edges()]\n",
        "nx.draw(ICS_Graph, x ,node_color='#ADD8E6', edge_color=colors, width=2 ,with_labels=True)\n",
        "plt.show()"
      ],
      "metadata": {
        "colab": {
          "base_uri": "https://localhost:8080/",
          "height": 319
        },
        "id": "CfJNKZXNFl_s",
        "outputId": "1c65ff3d-104f-4c4b-edbc-78c183637669"
      },
      "execution_count": 8,
      "outputs": [
        {
          "output_type": "display_data",
          "data": {
            "text/plain": [
              "<Figure size 432x288 with 1 Axes>"
            ],
            "image/png": "[encoded data removed]"
          },
          "metadata": {}
        }
      ]
    }
  ]
}