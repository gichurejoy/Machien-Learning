{
  "nbformat": 4,
  "nbformat_minor": 0,
  "metadata": {
    "colab": {
      "provenance": [],
      "collapsed_sections": [],
      "authorship_tag": "ABX9TyPhHQ+yy14GgcMRDw3F4iAp",
      "include_colab_link": true
    },
    "kernelspec": {
      "name": "python3",
      "display_name": "Python 3"
    },
    "language_info": {
      "name": "python"
    }
  },
  "cells": [
    {
      "cell_type": "markdown",
      "metadata": {
        "id": "view-in-github",
        "colab_type": "text"
      },
      "source": [
        "<a href=\"https://colab.research.google.com/github/gichurejoy/Machine-Learning/blob/main/B_115853.ipynb\" target=\"_parent\"><img src=\"https://colab.research.google.com/assets/colab-badge.svg\" alt=\"Open In Colab\"/></a>"
      ]
    },
    {
      "cell_type": "code",
      "source": [
        "from collections import defaultdict\n",
        "from queue import PriorityQueue\n"
      ],
      "metadata": {
        "id": "GtILxb_OyzY_"
      },
      "execution_count": 127,
      "outputs": []
    },
    {
      "cell_type": "code",
      "source": [
        "class Graph:\n",
        "    def __init__(self, directed): \n",
        "       \n",
        "        self.graph =  defaultdict(list)\n",
        "        self.directed = directed\n",
        "\n",
        "    def add_edge(self, u, v, weight):\n",
        "        \n",
        "        if self.directed:\n",
        "            value = (weight, v)\n",
        "            self.graph[u].append(value)\n",
        "        else:\n",
        "            value = (weight, v)\n",
        "            self.graph[u].append(value)\n",
        "            value = (weight, u)\n",
        "            self.graph[v].append(value)\n",
        "\n",
        "    def ucs(self, current_node, goal_node):\n",
        "       \n",
        "        visited = []  \n",
        "        queue = PriorityQueue()\n",
        "        queue.put((0, current_node))\n",
        "        \n",
        "        while not queue.empty():\n",
        "            item = queue.get()\n",
        "            current_node =  item[1]\n",
        "            \n",
        "            if current_node == goal_node:\n",
        "                print(current_node, end = \" \")\n",
        "                queue.queue.clear()\n",
        "            else:\n",
        "                if current_node in visited:\n",
        "                    continue\n",
        "                    \n",
        "                print(current_node, end = \" \")\n",
        "                visited.append(current_node)\n",
        "\n",
        "                for neighbour in self.graph[current_node]:\n",
        "                        queue.put((neighbour[0], neighbour[1]))\n",
        "\n",
        "\n",
        "      "
      ],
      "metadata": {
        "id": "TM6kkscD15hY"
      },
      "execution_count": 114,
      "outputs": []
    },
    {
      "cell_type": "code",
      "source": [
        "def iddfs(current_node,goal_node,self,level,range):\n",
        "    print('Current level :',level)\n",
        "    self.append(current_node)\n",
        "    if current_node == goal_node:\n",
        "        print(\"Goal test successful\")\n",
        "        return path\n",
        "    print(\"Goal node testing failed\")\n",
        "    if level==range:\n",
        "        return False\n",
        "    print('Expanding the current node',current_node)\n",
        "    for child in graph[start]:\n",
        "        if iddfs(child,goal_node,path,level+1,range):\n",
        "            return path\n",
        "        path.pop()\n",
        "    return False\n",
        "current_node = 'A'\n",
        "goal_node = 'N'\n",
        "range = int(input(\"Enter limit: \"))\n",
        "print()\n",
        "self = list()\n",
        "res = iddfs(current_node,goal_node,self,0,range)\n",
        "if(res):\n",
        "    print(\"Path to goal available\")\n",
        "    print(\"Path\",path)\n",
        "else:\n",
        "    print(\"No path available for the goal node in given depth limit\")"
      ],
      "metadata": {
        "colab": {
          "base_uri": "https://localhost:8080/"
        },
        "id": "dKzjOm7YNp_d",
        "outputId": "83a49e66-5d32-4691-d80c-f1be9c4a6fe4"
      },
      "execution_count": 150,
      "outputs": [
        {
          "output_type": "stream",
          "name": "stdout",
          "text": [
            "Enter limit: 5\n",
            "\n",
            "Current level : 0\n",
            "Goal node testing failed\n",
            "Expanding the current node A\n",
            "Current level : 1\n",
            "Goal node testing failed\n",
            "Expanding the current node D\n",
            "Current level : 2\n",
            "Goal node testing failed\n",
            "Expanding the current node D\n",
            "Current level : 3\n",
            "Goal node testing failed\n",
            "Expanding the current node D\n",
            "Current level : 4\n",
            "Goal node testing failed\n",
            "Expanding the current node D\n",
            "Current level : 5\n",
            "Goal node testing failed\n",
            "Current level : 5\n",
            "Goal node testing failed\n",
            "Current level : 4\n",
            "Goal node testing failed\n",
            "Expanding the current node O\n",
            "Current level : 5\n",
            "Goal node testing failed\n",
            "Current level : 5\n",
            "Goal node testing failed\n",
            "Current level : 3\n",
            "Goal node testing failed\n",
            "Expanding the current node O\n",
            "Current level : 4\n",
            "Goal node testing failed\n",
            "Expanding the current node D\n",
            "Current level : 5\n",
            "Goal node testing failed\n",
            "Current level : 5\n",
            "Goal node testing failed\n",
            "Current level : 4\n",
            "Goal node testing failed\n",
            "Expanding the current node O\n",
            "Current level : 5\n",
            "Goal node testing failed\n",
            "Current level : 5\n",
            "Goal node testing failed\n",
            "Current level : 2\n",
            "Goal node testing failed\n",
            "Expanding the current node O\n",
            "Current level : 3\n",
            "Goal node testing failed\n",
            "Expanding the current node D\n",
            "Current level : 4\n",
            "Goal node testing failed\n",
            "Expanding the current node D\n",
            "Current level : 5\n",
            "Goal node testing failed\n",
            "Current level : 5\n",
            "Goal node testing failed\n",
            "Current level : 4\n",
            "Goal node testing failed\n",
            "Expanding the current node O\n",
            "Current level : 5\n",
            "Goal node testing failed\n",
            "Current level : 5\n",
            "Goal node testing failed\n",
            "Current level : 3\n",
            "Goal node testing failed\n",
            "Expanding the current node O\n",
            "Current level : 4\n",
            "Goal node testing failed\n",
            "Expanding the current node D\n",
            "Current level : 5\n",
            "Goal node testing failed\n",
            "Current level : 5\n",
            "Goal node testing failed\n",
            "Current level : 4\n",
            "Goal node testing failed\n",
            "Expanding the current node O\n",
            "Current level : 5\n",
            "Goal node testing failed\n",
            "Current level : 5\n",
            "Goal node testing failed\n",
            "Current level : 1\n",
            "Goal node testing failed\n",
            "Expanding the current node O\n",
            "Current level : 2\n",
            "Goal node testing failed\n",
            "Expanding the current node D\n",
            "Current level : 3\n",
            "Goal node testing failed\n",
            "Expanding the current node D\n",
            "Current level : 4\n",
            "Goal node testing failed\n",
            "Expanding the current node D\n",
            "Current level : 5\n",
            "Goal node testing failed\n",
            "Current level : 5\n",
            "Goal node testing failed\n",
            "Current level : 4\n",
            "Goal node testing failed\n",
            "Expanding the current node O\n",
            "Current level : 5\n",
            "Goal node testing failed\n",
            "Current level : 5\n",
            "Goal node testing failed\n",
            "Current level : 3\n",
            "Goal node testing failed\n",
            "Expanding the current node O\n",
            "Current level : 4\n",
            "Goal node testing failed\n",
            "Expanding the current node D\n",
            "Current level : 5\n",
            "Goal node testing failed\n",
            "Current level : 5\n",
            "Goal node testing failed\n",
            "Current level : 4\n",
            "Goal node testing failed\n",
            "Expanding the current node O\n",
            "Current level : 5\n",
            "Goal node testing failed\n",
            "Current level : 5\n",
            "Goal node testing failed\n",
            "Current level : 2\n",
            "Goal node testing failed\n",
            "Expanding the current node O\n",
            "Current level : 3\n",
            "Goal node testing failed\n",
            "Expanding the current node D\n",
            "Current level : 4\n",
            "Goal node testing failed\n",
            "Expanding the current node D\n",
            "Current level : 5\n",
            "Goal node testing failed\n",
            "Current level : 5\n",
            "Goal node testing failed\n",
            "Current level : 4\n",
            "Goal node testing failed\n",
            "Expanding the current node O\n",
            "Current level : 5\n",
            "Goal node testing failed\n",
            "Current level : 5\n",
            "Goal node testing failed\n",
            "Current level : 3\n",
            "Goal node testing failed\n",
            "Expanding the current node O\n",
            "Current level : 4\n",
            "Goal node testing failed\n",
            "Expanding the current node D\n",
            "Current level : 5\n",
            "Goal node testing failed\n",
            "Current level : 5\n",
            "Goal node testing failed\n",
            "Current level : 4\n",
            "Goal node testing failed\n",
            "Expanding the current node O\n",
            "Current level : 5\n",
            "Goal node testing failed\n",
            "Current level : 5\n",
            "Goal node testing failed\n",
            "No path available for the goal node in given depth limit\n"
          ]
        }
      ]
    },
    {
      "cell_type": "code",
      "source": [
        "G = Graph(False)"
      ],
      "metadata": {
        "id": "VoGJuzic2jvF"
      },
      "execution_count": 115,
      "outputs": []
    },
    {
      "cell_type": "code",
      "source": [
        "G.graph =  defaultdict(list)\n",
        "  \n",
        "G.add_edge('J','K',146)\n",
        "G.add_edge('J','E',105)\n",
        "G.add_edge('J','I',172)\n",
        "G.add_edge('I','A',109)\n",
        "G.add_edge('I','C',102)\n",
        "G.add_edge('C','B',171)\n",
        "G.add_edge('C','D',126)\n",
        "G.add_edge('B','G',171)\n",
        "G.add_edge('G','H',99)\n",
        "G.add_edge('G','C',140)\n",
        "G.add_edge('G','D',123)\n",
        "G.add_edge('H','N',80)\n",
        "G.add_edge('K','L',152)\n",
        "G.add_edge('E','A',133)\n",
        "G.add_edge('K','E',146)\n",
        "G.add_edge('E','L',110)\n",
        "G.add_edge('A','O',151)\n",
        "G.add_edge('A','D',43)\n",
        "G.add_edge('D','O',136)\n",
        "G.add_edge('D','M',200)\n",
        "G.add_edge('D','F',111)\n",
        "G.add_edge('F','H',130)\n",
        "G.add_edge('F','G',88)\n",
        "G.add_edge('L','O',97)\n",
        "G.add_edge('O','M',100)\n",
        "G.add_edge('M','N',67)"
      ],
      "metadata": {
        "id": "f_J0ty2d2lXx"
      },
      "execution_count": 116,
      "outputs": []
    },
    {
      "cell_type": "code",
      "source": [
        "G.graph"
      ],
      "metadata": {
        "colab": {
          "base_uri": "https://localhost:8080/"
        },
        "id": "JY70Drxy3ITF",
        "outputId": "59cdab32-e50a-4b1b-ecd8-ec4ef94f68e8"
      },
      "execution_count": 117,
      "outputs": [
        {
          "output_type": "execute_result",
          "data": {
            "text/plain": [
              "defaultdict(list,\n",
              "            {'J': [(146, 'K'), (105, 'E'), (172, 'I')],\n",
              "             'K': [(146, 'J'), (152, 'L'), (146, 'E')],\n",
              "             'E': [(105, 'J'), (133, 'A'), (146, 'K'), (110, 'L')],\n",
              "             'I': [(172, 'J'), (109, 'A'), (102, 'C')],\n",
              "             'A': [(109, 'I'), (133, 'E'), (151, 'O'), (43, 'D')],\n",
              "             'C': [(102, 'I'), (171, 'B'), (126, 'D'), (140, 'G')],\n",
              "             'B': [(171, 'C'), (171, 'G')],\n",
              "             'D': [(126, 'C'),\n",
              "              (123, 'G'),\n",
              "              (43, 'A'),\n",
              "              (136, 'O'),\n",
              "              (200, 'M'),\n",
              "              (111, 'F')],\n",
              "             'G': [(171, 'B'), (99, 'H'), (140, 'C'), (123, 'D'), (88, 'F')],\n",
              "             'H': [(99, 'G'), (80, 'N'), (130, 'F')],\n",
              "             'N': [(80, 'H'), (67, 'M')],\n",
              "             'L': [(152, 'K'), (110, 'E'), (97, 'O')],\n",
              "             'O': [(151, 'A'), (136, 'D'), (97, 'L'), (100, 'M')],\n",
              "             'M': [(200, 'D'), (100, 'O'), (67, 'N')],\n",
              "             'F': [(111, 'D'), (130, 'H'), (88, 'G')]})"
            ]
          },
          "metadata": {},
          "execution_count": 117
        }
      ]
    },
    {
      "cell_type": "code",
      "source": [
        "print(\"Uniform cost search: \") \n",
        "G.ucs( 'J', 'N')"
      ],
      "metadata": {
        "colab": {
          "base_uri": "https://localhost:8080/"
        },
        "id": "NDnJ9_973YJW",
        "outputId": "73d371eb-bb39-481c-87a8-f18123376249"
      },
      "execution_count": 118,
      "outputs": [
        {
          "output_type": "stream",
          "name": "stdout",
          "text": [
            "Uniform cost search: \n",
            "J E L O M N "
          ]
        }
      ]
    },
    {
      "cell_type": "code",
      "source": [
        "G.iddfs('J','N')"
      ],
      "metadata": {
        "colab": {
          "base_uri": "https://localhost:8080/",
          "height": 165
        },
        "id": "CRz24tQC8alH",
        "outputId": "47f72592-df32-4173-9817-c9375de53831"
      },
      "execution_count": 144,
      "outputs": [
        {
          "output_type": "error",
          "ename": "AttributeError",
          "evalue": "ignored",
          "traceback": [
            "\u001b[0;31m---------------------------------------------------------------------------\u001b[0m",
            "\u001b[0;31mAttributeError\u001b[0m                            Traceback (most recent call last)",
            "\u001b[0;32m<ipython-input-144-1174e524d1c1>\u001b[0m in \u001b[0;36m<module>\u001b[0;34m\u001b[0m\n\u001b[0;32m----> 1\u001b[0;31m \u001b[0mG\u001b[0m\u001b[0;34m.\u001b[0m\u001b[0middfs\u001b[0m\u001b[0;34m(\u001b[0m\u001b[0;34m'J'\u001b[0m\u001b[0;34m,\u001b[0m\u001b[0;34m'N'\u001b[0m\u001b[0;34m)\u001b[0m\u001b[0;34m\u001b[0m\u001b[0;34m\u001b[0m\u001b[0m\n\u001b[0m",
            "\u001b[0;31mAttributeError\u001b[0m: 'Graph' object has no attribute 'iddfs'"
          ]
        }
      ]
    }
  ]
}